{
 "cells": [
  {
   "cell_type": "markdown",
   "metadata": {},
   "source": [
    "# Natural Language Processing Workshop :\n",
    "# Analyzing wine descriptions, rating and predicing variety and price\n",
    "<img src=\"https://secure.meetupstatic.com/photos/event/8/4/9/0/highres_485793936.jpeg\">\n"
   ]
  },
  {
   "cell_type": "markdown",
   "metadata": {},
   "source": [
    "### 1: Getting Started : Importing & cleaning data\n"
   ]
  },
  {
   "cell_type": "markdown",
   "metadata": {},
   "source": [
    " For the first part we will be reading the data, some basic exploration and cleaning. During this process we will also try to determine the quality of our data and decide on how to proceed with our data analysis."
   ]
  },
  {
   "cell_type": "code",
   "execution_count": 1,
   "metadata": {},
   "outputs": [],
   "source": [
    "# Pandas is an open source Python library that offers data structures and data analysis tools and operations. Read more at: https://pandas.pydata.org/\n",
    "import pandas as pd\n",
    "import warnings\n",
    "warnings.filterwarnings('ignore')"
   ]
  },
  {
   "cell_type": "code",
   "execution_count": 2,
   "metadata": {},
   "outputs": [],
   "source": [
    "# First we start by importing the data\n",
    "wine_reviews = pd.read_csv(\"wine-reviews/winemag-data-130k-v2.csv\")\n"
   ]
  },
  {
   "cell_type": "code",
   "execution_count": 3,
   "metadata": {},
   "outputs": [
    {
     "data": {
      "text/plain": [
       "(129971, 14)"
      ]
     },
     "execution_count": 3,
     "metadata": {},
     "output_type": "execute_result"
    }
   ],
   "source": [
    "# Check how large is our dataframe \n",
    "wine_reviews.shape"
   ]
  },
  {
   "cell_type": "code",
   "execution_count": 4,
   "metadata": {},
   "outputs": [
    {
     "data": {
      "text/html": [
       "<div>\n",
       "<style scoped>\n",
       "    .dataframe tbody tr th:only-of-type {\n",
       "        vertical-align: middle;\n",
       "    }\n",
       "\n",
       "    .dataframe tbody tr th {\n",
       "        vertical-align: top;\n",
       "    }\n",
       "\n",
       "    .dataframe thead th {\n",
       "        text-align: right;\n",
       "    }\n",
       "</style>\n",
       "<table border=\"1\" class=\"dataframe\">\n",
       "  <thead>\n",
       "    <tr style=\"text-align: right;\">\n",
       "      <th></th>\n",
       "      <th>Unnamed: 0</th>\n",
       "      <th>country</th>\n",
       "      <th>description</th>\n",
       "      <th>designation</th>\n",
       "      <th>points</th>\n",
       "      <th>price</th>\n",
       "      <th>province</th>\n",
       "      <th>region_1</th>\n",
       "      <th>region_2</th>\n",
       "      <th>taster_name</th>\n",
       "      <th>taster_twitter_handle</th>\n",
       "      <th>title</th>\n",
       "      <th>variety</th>\n",
       "      <th>winery</th>\n",
       "    </tr>\n",
       "  </thead>\n",
       "  <tbody>\n",
       "    <tr>\n",
       "      <td>0</td>\n",
       "      <td>0</td>\n",
       "      <td>Italy</td>\n",
       "      <td>Aromas include tropical fruit, broom, brimston...</td>\n",
       "      <td>Vulkà Bianco</td>\n",
       "      <td>87</td>\n",
       "      <td>NaN</td>\n",
       "      <td>Sicily &amp; Sardinia</td>\n",
       "      <td>Etna</td>\n",
       "      <td>NaN</td>\n",
       "      <td>Kerin O’Keefe</td>\n",
       "      <td>@kerinokeefe</td>\n",
       "      <td>Nicosia 2013 Vulkà Bianco  (Etna)</td>\n",
       "      <td>White Blend</td>\n",
       "      <td>Nicosia</td>\n",
       "    </tr>\n",
       "    <tr>\n",
       "      <td>1</td>\n",
       "      <td>1</td>\n",
       "      <td>Portugal</td>\n",
       "      <td>This is ripe and fruity, a wine that is smooth...</td>\n",
       "      <td>Avidagos</td>\n",
       "      <td>87</td>\n",
       "      <td>15.0</td>\n",
       "      <td>Douro</td>\n",
       "      <td>NaN</td>\n",
       "      <td>NaN</td>\n",
       "      <td>Roger Voss</td>\n",
       "      <td>@vossroger</td>\n",
       "      <td>Quinta dos Avidagos 2011 Avidagos Red (Douro)</td>\n",
       "      <td>Portuguese Red</td>\n",
       "      <td>Quinta dos Avidagos</td>\n",
       "    </tr>\n",
       "    <tr>\n",
       "      <td>2</td>\n",
       "      <td>2</td>\n",
       "      <td>US</td>\n",
       "      <td>Tart and snappy, the flavors of lime flesh and...</td>\n",
       "      <td>NaN</td>\n",
       "      <td>87</td>\n",
       "      <td>14.0</td>\n",
       "      <td>Oregon</td>\n",
       "      <td>Willamette Valley</td>\n",
       "      <td>Willamette Valley</td>\n",
       "      <td>Paul Gregutt</td>\n",
       "      <td>@paulgwine</td>\n",
       "      <td>Rainstorm 2013 Pinot Gris (Willamette Valley)</td>\n",
       "      <td>Pinot Gris</td>\n",
       "      <td>Rainstorm</td>\n",
       "    </tr>\n",
       "    <tr>\n",
       "      <td>3</td>\n",
       "      <td>3</td>\n",
       "      <td>US</td>\n",
       "      <td>Pineapple rind, lemon pith and orange blossom ...</td>\n",
       "      <td>Reserve Late Harvest</td>\n",
       "      <td>87</td>\n",
       "      <td>13.0</td>\n",
       "      <td>Michigan</td>\n",
       "      <td>Lake Michigan Shore</td>\n",
       "      <td>NaN</td>\n",
       "      <td>Alexander Peartree</td>\n",
       "      <td>NaN</td>\n",
       "      <td>St. Julian 2013 Reserve Late Harvest Riesling ...</td>\n",
       "      <td>Riesling</td>\n",
       "      <td>St. Julian</td>\n",
       "    </tr>\n",
       "    <tr>\n",
       "      <td>4</td>\n",
       "      <td>4</td>\n",
       "      <td>US</td>\n",
       "      <td>Much like the regular bottling from 2012, this...</td>\n",
       "      <td>Vintner's Reserve Wild Child Block</td>\n",
       "      <td>87</td>\n",
       "      <td>65.0</td>\n",
       "      <td>Oregon</td>\n",
       "      <td>Willamette Valley</td>\n",
       "      <td>Willamette Valley</td>\n",
       "      <td>Paul Gregutt</td>\n",
       "      <td>@paulgwine</td>\n",
       "      <td>Sweet Cheeks 2012 Vintner's Reserve Wild Child...</td>\n",
       "      <td>Pinot Noir</td>\n",
       "      <td>Sweet Cheeks</td>\n",
       "    </tr>\n",
       "  </tbody>\n",
       "</table>\n",
       "</div>"
      ],
      "text/plain": [
       "   Unnamed: 0   country                                        description  \\\n",
       "0           0     Italy  Aromas include tropical fruit, broom, brimston...   \n",
       "1           1  Portugal  This is ripe and fruity, a wine that is smooth...   \n",
       "2           2        US  Tart and snappy, the flavors of lime flesh and...   \n",
       "3           3        US  Pineapple rind, lemon pith and orange blossom ...   \n",
       "4           4        US  Much like the regular bottling from 2012, this...   \n",
       "\n",
       "                          designation  points  price           province  \\\n",
       "0                        Vulkà Bianco      87    NaN  Sicily & Sardinia   \n",
       "1                            Avidagos      87   15.0              Douro   \n",
       "2                                 NaN      87   14.0             Oregon   \n",
       "3                Reserve Late Harvest      87   13.0           Michigan   \n",
       "4  Vintner's Reserve Wild Child Block      87   65.0             Oregon   \n",
       "\n",
       "              region_1           region_2         taster_name  \\\n",
       "0                 Etna                NaN       Kerin O’Keefe   \n",
       "1                  NaN                NaN          Roger Voss   \n",
       "2    Willamette Valley  Willamette Valley        Paul Gregutt   \n",
       "3  Lake Michigan Shore                NaN  Alexander Peartree   \n",
       "4    Willamette Valley  Willamette Valley        Paul Gregutt   \n",
       "\n",
       "  taster_twitter_handle                                              title  \\\n",
       "0          @kerinokeefe                  Nicosia 2013 Vulkà Bianco  (Etna)   \n",
       "1            @vossroger      Quinta dos Avidagos 2011 Avidagos Red (Douro)   \n",
       "2           @paulgwine       Rainstorm 2013 Pinot Gris (Willamette Valley)   \n",
       "3                   NaN  St. Julian 2013 Reserve Late Harvest Riesling ...   \n",
       "4           @paulgwine   Sweet Cheeks 2012 Vintner's Reserve Wild Child...   \n",
       "\n",
       "          variety               winery  \n",
       "0     White Blend              Nicosia  \n",
       "1  Portuguese Red  Quinta dos Avidagos  \n",
       "2      Pinot Gris            Rainstorm  \n",
       "3        Riesling           St. Julian  \n",
       "4      Pinot Noir         Sweet Cheeks  "
      ]
     },
     "execution_count": 4,
     "metadata": {},
     "output_type": "execute_result"
    }
   ],
   "source": [
    "#Show the first 5 rows of the dataframe\n",
    "wine_reviews.head()"
   ]
  },
  {
   "cell_type": "code",
   "execution_count": 5,
   "metadata": {
    "scrolled": true
   },
   "outputs": [
    {
     "data": {
      "text/html": [
       "<div>\n",
       "<style scoped>\n",
       "    .dataframe tbody tr th:only-of-type {\n",
       "        vertical-align: middle;\n",
       "    }\n",
       "\n",
       "    .dataframe tbody tr th {\n",
       "        vertical-align: top;\n",
       "    }\n",
       "\n",
       "    .dataframe thead th {\n",
       "        text-align: right;\n",
       "    }\n",
       "</style>\n",
       "<table border=\"1\" class=\"dataframe\">\n",
       "  <thead>\n",
       "    <tr style=\"text-align: right;\">\n",
       "      <th></th>\n",
       "      <th>Unnamed: 0</th>\n",
       "      <th>country</th>\n",
       "      <th>description</th>\n",
       "      <th>designation</th>\n",
       "      <th>points</th>\n",
       "      <th>price</th>\n",
       "      <th>province</th>\n",
       "      <th>region_1</th>\n",
       "      <th>region_2</th>\n",
       "      <th>taster_name</th>\n",
       "      <th>taster_twitter_handle</th>\n",
       "      <th>title</th>\n",
       "      <th>variety</th>\n",
       "      <th>winery</th>\n",
       "    </tr>\n",
       "  </thead>\n",
       "  <tbody>\n",
       "    <tr>\n",
       "      <td>129969</td>\n",
       "      <td>129969</td>\n",
       "      <td>France</td>\n",
       "      <td>A dry style of Pinot Gris, this is crisp with ...</td>\n",
       "      <td>NaN</td>\n",
       "      <td>90</td>\n",
       "      <td>32.0</td>\n",
       "      <td>Alsace</td>\n",
       "      <td>Alsace</td>\n",
       "      <td>NaN</td>\n",
       "      <td>Roger Voss</td>\n",
       "      <td>@vossroger</td>\n",
       "      <td>Domaine Marcel Deiss 2012 Pinot Gris (Alsace)</td>\n",
       "      <td>Pinot Gris</td>\n",
       "      <td>Domaine Marcel Deiss</td>\n",
       "    </tr>\n",
       "    <tr>\n",
       "      <td>129970</td>\n",
       "      <td>129970</td>\n",
       "      <td>France</td>\n",
       "      <td>Big, rich and off-dry, this is powered by inte...</td>\n",
       "      <td>Lieu-dit Harth Cuvée Caroline</td>\n",
       "      <td>90</td>\n",
       "      <td>21.0</td>\n",
       "      <td>Alsace</td>\n",
       "      <td>Alsace</td>\n",
       "      <td>NaN</td>\n",
       "      <td>Roger Voss</td>\n",
       "      <td>@vossroger</td>\n",
       "      <td>Domaine Schoffit 2012 Lieu-dit Harth Cuvée Car...</td>\n",
       "      <td>Gewürztraminer</td>\n",
       "      <td>Domaine Schoffit</td>\n",
       "    </tr>\n",
       "  </tbody>\n",
       "</table>\n",
       "</div>"
      ],
      "text/plain": [
       "        Unnamed: 0 country                                        description  \\\n",
       "129969      129969  France  A dry style of Pinot Gris, this is crisp with ...   \n",
       "129970      129970  France  Big, rich and off-dry, this is powered by inte...   \n",
       "\n",
       "                          designation  points  price province region_1  \\\n",
       "129969                            NaN      90   32.0   Alsace   Alsace   \n",
       "129970  Lieu-dit Harth Cuvée Caroline      90   21.0   Alsace   Alsace   \n",
       "\n",
       "       region_2 taster_name taster_twitter_handle  \\\n",
       "129969      NaN  Roger Voss            @vossroger   \n",
       "129970      NaN  Roger Voss            @vossroger   \n",
       "\n",
       "                                                    title         variety  \\\n",
       "129969      Domaine Marcel Deiss 2012 Pinot Gris (Alsace)      Pinot Gris   \n",
       "129970  Domaine Schoffit 2012 Lieu-dit Harth Cuvée Car...  Gewürztraminer   \n",
       "\n",
       "                      winery  \n",
       "129969  Domaine Marcel Deiss  \n",
       "129970      Domaine Schoffit  "
      ]
     },
     "execution_count": 5,
     "metadata": {},
     "output_type": "execute_result"
    }
   ],
   "source": [
    "#checking the last two rows\n",
    "wine_reviews.iloc[-2:]"
   ]
  },
  {
   "cell_type": "markdown",
   "metadata": {},
   "source": [
    "\n",
    "From a brief overview of our data we can start by taking some steps in dropping columns that do not interest us and duplicated rows. For this exercice we decided to drop the columns of designation, region1, region2 as well as the twitter handle of the reviewer. The exta column unmnamed:0 is also dropped as this is replaced by the index.\n"
   ]
  },
  {
   "cell_type": "code",
   "execution_count": 6,
   "metadata": {},
   "outputs": [],
   "source": [
    "#drop columns designation, region1, region2 and taster twitter details.\n",
    "wine_df = wine_reviews.drop(columns=['designation','region_1', 'region_2', 'taster_twitter_handle', 'winery','Unnamed: 0' ])"
   ]
  },
  {
   "cell_type": "code",
   "execution_count": 7,
   "metadata": {},
   "outputs": [
    {
     "data": {
      "text/plain": [
       "(129971, 8)"
      ]
     },
     "execution_count": 7,
     "metadata": {},
     "output_type": "execute_result"
    }
   ],
   "source": [
    "wine_df.shape"
   ]
  },
  {
   "cell_type": "code",
   "execution_count": 8,
   "metadata": {},
   "outputs": [],
   "source": [
    "#drop duplicate description\n",
    "wine_df = wine_df.drop_duplicates('description')"
   ]
  },
  {
   "cell_type": "code",
   "execution_count": 9,
   "metadata": {},
   "outputs": [
    {
     "data": {
      "text/plain": [
       "(119955, 8)"
      ]
     },
     "execution_count": 9,
     "metadata": {},
     "output_type": "execute_result"
    }
   ],
   "source": [
    "wine_df.shape"
   ]
  },
  {
   "cell_type": "code",
   "execution_count": 10,
   "metadata": {},
   "outputs": [
    {
     "data": {
      "text/plain": [
       "(88244, 8)"
      ]
     },
     "execution_count": 10,
     "metadata": {},
     "output_type": "execute_result"
    }
   ],
   "source": [
    "#drop rows with NaN price, points and description\n",
    "wine_df = wine_df.dropna(subset=['price', 'points', 'description'])\n",
    "#Also we will drop any empty values\n",
    "wine_df = wine_df.dropna()\n",
    "wine_df.shape"
   ]
  },
  {
   "cell_type": "code",
   "execution_count": 11,
   "metadata": {},
   "outputs": [
    {
     "name": "stdout",
     "output_type": "stream",
     "text": [
      "taster_name\n",
      "Roger Voss            18543\n",
      "Michael Schachner     13863\n",
      "Kerin O’Keefe          8872\n",
      "Paul Gregutt           8836\n",
      "Virginie Boone         8681\n",
      "Matt Kettmann          5642\n",
      "Joe Czerwinski         4642\n",
      "Sean P. Sullivan       4422\n",
      "Anna Lee C. Iijima     3974\n",
      "Jim Gordon             3761\n",
      "Anne Krebiehl MW       3027\n",
      "Lauren Buzzeo          1581\n",
      "Susan Kostrzewa        1005\n",
      "Mike DeSimone           441\n",
      "Jeff Jenssen            415\n",
      "Alexander Peartree      381\n",
      "Carrie Dykes            128\n",
      "Fiona Adams              24\n",
      "Christina Pickard         6\n",
      "Name: description, dtype: int64\n"
     ]
    }
   ],
   "source": [
    "print(wine_df['description'].groupby(wine_df['taster_name']).count().sort_values(ascending = False))"
   ]
  },
  {
   "cell_type": "code",
   "execution_count": 12,
   "metadata": {},
   "outputs": [
    {
     "name": "stdout",
     "output_type": "stream",
     "text": [
      "country\n",
      "US                        34261\n",
      "France                    16041\n",
      "Italy                      9117\n",
      "Spain                      5985\n",
      "Portugal                   4497\n",
      "Chile                      4019\n",
      "Argentina                  3498\n",
      "Austria                    2527\n",
      "Germany                    1924\n",
      "Australia                  1887\n",
      "New Zealand                1143\n",
      "South Africa               1123\n",
      "Israel                      448\n",
      "Greece                      426\n",
      "Canada                      223\n",
      "Bulgaria                    132\n",
      "Hungary                     127\n",
      "Romania                     102\n",
      "Uruguay                      98\n",
      "Turkey                       81\n",
      "Georgia                      74\n",
      "Slovenia                     70\n",
      "Croatia                      68\n",
      "Mexico                       63\n",
      "England                      59\n",
      "Moldova                      56\n",
      "Brazil                       44\n",
      "Lebanon                      32\n",
      "Morocco                      24\n",
      "Peru                         16\n",
      "Ukraine                      14\n",
      "Czech Republic               11\n",
      "Macedonia                    11\n",
      "Cyprus                       10\n",
      "Serbia                        8\n",
      "India                         8\n",
      "Switzerland                   6\n",
      "Luxembourg                    5\n",
      "Bosnia and Herzegovina        2\n",
      "Armenia                       2\n",
      "China                         1\n",
      "Slovakia                      1\n",
      "Name: description, dtype: int64\n"
     ]
    }
   ],
   "source": [
    "print(wine_df['description'].groupby(wine_df['country']).count().sort_values(ascending = False))"
   ]
  },
  {
   "cell_type": "code",
   "execution_count": 13,
   "metadata": {},
   "outputs": [
    {
     "data": {
      "text/plain": [
       "(653, 2)"
      ]
     },
     "execution_count": 13,
     "metadata": {},
     "output_type": "execute_result"
    }
   ],
   "source": [
    "# how many varieties\n",
    "varieties = wine_df.variety.value_counts()\n",
    "varieties = varieties.to_frame('count').reset_index()\n",
    "varieties.columns = ['variety', 'reviews']\n",
    "varieties.shape\n"
   ]
  },
  {
   "cell_type": "code",
   "execution_count": 14,
   "metadata": {},
   "outputs": [
    {
     "name": "stdout",
     "output_type": "stream",
     "text": [
      "Pinot Noir                    9014\n",
      "Chardonnay                    7586\n",
      "Red Blend                     6252\n",
      "Cabernet Sauvignon            5716\n",
      "Bordeaux-style Red Blend      4455\n",
      "Riesling                      4331\n",
      "Sauvignon Blanc               3506\n",
      "Syrah                         2844\n",
      "Rosé                          2732\n",
      "Malbec                        2327\n",
      "Portuguese Red                2028\n",
      "Merlot                        1911\n",
      "Sangiovese                    1641\n",
      "Tempranillo                   1597\n",
      "Nebbiolo                      1595\n",
      "White Blend                   1517\n",
      "Sparkling Blend               1502\n",
      "Zinfandel                     1444\n",
      "Pinot Gris                    1157\n",
      "Rhône-style Red Blend         1126\n",
      "Grüner Veltliner              1011\n",
      "Champagne Blend               1010\n",
      "Cabernet Franc                 985\n",
      "Portuguese White               905\n",
      "Gewürztraminer                 769\n",
      "Gamay                          749\n",
      "Viognier                       699\n",
      "Shiraz                         672\n",
      "Bordeaux-style White Blend     618\n",
      "Tempranillo Blend              543\n",
      "Carmenère                      516\n",
      "Pinot Grigio                   513\n",
      "Grenache                       482\n",
      "Chenin Blanc                   473\n",
      "Petite Sirah                   437\n",
      "Port                           433\n",
      "Albariño                       401\n",
      "Barbera                        368\n",
      "Rhône-style White Blend        335\n",
      "Pinot Blanc                    312\n",
      "Garnacha                       301\n",
      "Glera                          300\n",
      "Verdejo                        261\n",
      "Torrontés                      230\n",
      "Melon                          220\n",
      "Petit Verdot                   196\n",
      "Blaufränkisch                  190\n",
      "Sauvignon                      177\n",
      "Mourvèdre                      176\n",
      "Nero d'Avola                   163\n",
      "Aglianico                      162\n",
      "Zweigelt                       158\n",
      "Mencía                         157\n",
      "Tinta de Toro                  154\n",
      "Touriga Nacional               151\n",
      "Moscato                        144\n",
      "Tannat                         144\n",
      "Meritage                       134\n",
      "G-S-M                          130\n",
      "Monastrell                     127\n",
      "Name: variety, dtype: int64\n"
     ]
    }
   ],
   "source": [
    "#Of the 697 grape varieties represented in this dataset less than 10% have 90% of all reviews. \n",
    "#We can set a threshold drop varieties with less than 1000 reviews.\n",
    "print(wine_df.variety.value_counts().head(60))"
   ]
  },
  {
   "cell_type": "code",
   "execution_count": 15,
   "metadata": {},
   "outputs": [
    {
     "data": {
      "text/html": [
       "<div>\n",
       "<style scoped>\n",
       "    .dataframe tbody tr th:only-of-type {\n",
       "        vertical-align: middle;\n",
       "    }\n",
       "\n",
       "    .dataframe tbody tr th {\n",
       "        vertical-align: top;\n",
       "    }\n",
       "\n",
       "    .dataframe thead th {\n",
       "        text-align: right;\n",
       "    }\n",
       "</style>\n",
       "<table border=\"1\" class=\"dataframe\">\n",
       "  <thead>\n",
       "    <tr style=\"text-align: right;\">\n",
       "      <th></th>\n",
       "      <th>country</th>\n",
       "      <th>description</th>\n",
       "      <th>points</th>\n",
       "      <th>price</th>\n",
       "      <th>province</th>\n",
       "      <th>taster_name</th>\n",
       "      <th>title</th>\n",
       "      <th>variety</th>\n",
       "      <th>reviews</th>\n",
       "    </tr>\n",
       "  </thead>\n",
       "  <tbody>\n",
       "    <tr>\n",
       "      <td>0</td>\n",
       "      <td>Portugal</td>\n",
       "      <td>This is ripe and fruity, a wine that is smooth...</td>\n",
       "      <td>87</td>\n",
       "      <td>15.0</td>\n",
       "      <td>Douro</td>\n",
       "      <td>Roger Voss</td>\n",
       "      <td>Quinta dos Avidagos 2011 Avidagos Red (Douro)</td>\n",
       "      <td>Portuguese Red</td>\n",
       "      <td>2028</td>\n",
       "    </tr>\n",
       "    <tr>\n",
       "      <td>1</td>\n",
       "      <td>US</td>\n",
       "      <td>Tart and snappy, the flavors of lime flesh and...</td>\n",
       "      <td>87</td>\n",
       "      <td>14.0</td>\n",
       "      <td>Oregon</td>\n",
       "      <td>Paul Gregutt</td>\n",
       "      <td>Rainstorm 2013 Pinot Gris (Willamette Valley)</td>\n",
       "      <td>Pinot Gris</td>\n",
       "      <td>1157</td>\n",
       "    </tr>\n",
       "    <tr>\n",
       "      <td>2</td>\n",
       "      <td>US</td>\n",
       "      <td>Pineapple rind, lemon pith and orange blossom ...</td>\n",
       "      <td>87</td>\n",
       "      <td>13.0</td>\n",
       "      <td>Michigan</td>\n",
       "      <td>Alexander Peartree</td>\n",
       "      <td>St. Julian 2013 Reserve Late Harvest Riesling ...</td>\n",
       "      <td>Riesling</td>\n",
       "      <td>4331</td>\n",
       "    </tr>\n",
       "    <tr>\n",
       "      <td>3</td>\n",
       "      <td>US</td>\n",
       "      <td>Much like the regular bottling from 2012, this...</td>\n",
       "      <td>87</td>\n",
       "      <td>65.0</td>\n",
       "      <td>Oregon</td>\n",
       "      <td>Paul Gregutt</td>\n",
       "      <td>Sweet Cheeks 2012 Vintner's Reserve Wild Child...</td>\n",
       "      <td>Pinot Noir</td>\n",
       "      <td>9014</td>\n",
       "    </tr>\n",
       "    <tr>\n",
       "      <td>8</td>\n",
       "      <td>France</td>\n",
       "      <td>This has great depth of flavor with its fresh ...</td>\n",
       "      <td>87</td>\n",
       "      <td>27.0</td>\n",
       "      <td>Alsace</td>\n",
       "      <td>Roger Voss</td>\n",
       "      <td>Jean-Baptiste Adam 2012 Les Natures Pinot Gris...</td>\n",
       "      <td>Pinot Gris</td>\n",
       "      <td>1157</td>\n",
       "    </tr>\n",
       "    <tr>\n",
       "      <td>9</td>\n",
       "      <td>US</td>\n",
       "      <td>Soft, supple plum envelopes an oaky structure ...</td>\n",
       "      <td>87</td>\n",
       "      <td>19.0</td>\n",
       "      <td>California</td>\n",
       "      <td>Virginie Boone</td>\n",
       "      <td>Kirkland Signature 2011 Mountain Cuvée Caberne...</td>\n",
       "      <td>Cabernet Sauvignon</td>\n",
       "      <td>5716</td>\n",
       "    </tr>\n",
       "    <tr>\n",
       "      <td>11</td>\n",
       "      <td>US</td>\n",
       "      <td>Slightly reduced, this wine offers a chalky, t...</td>\n",
       "      <td>87</td>\n",
       "      <td>34.0</td>\n",
       "      <td>California</td>\n",
       "      <td>Virginie Boone</td>\n",
       "      <td>Louis M. Martini 2012 Cabernet Sauvignon (Alex...</td>\n",
       "      <td>Cabernet Sauvignon</td>\n",
       "      <td>5716</td>\n",
       "    </tr>\n",
       "    <tr>\n",
       "      <td>12</td>\n",
       "      <td>US</td>\n",
       "      <td>Building on 150 years and six generations of w...</td>\n",
       "      <td>87</td>\n",
       "      <td>12.0</td>\n",
       "      <td>California</td>\n",
       "      <td>Matt Kettmann</td>\n",
       "      <td>Mirassou 2012 Chardonnay (Central Coast)</td>\n",
       "      <td>Chardonnay</td>\n",
       "      <td>7586</td>\n",
       "    </tr>\n",
       "    <tr>\n",
       "      <td>13</td>\n",
       "      <td>Germany</td>\n",
       "      <td>Zesty orange peels and apple notes abound in t...</td>\n",
       "      <td>87</td>\n",
       "      <td>24.0</td>\n",
       "      <td>Mosel</td>\n",
       "      <td>Anna Lee C. Iijima</td>\n",
       "      <td>Richard Böcking 2013 Devon Riesling (Mosel)</td>\n",
       "      <td>Riesling</td>\n",
       "      <td>4331</td>\n",
       "    </tr>\n",
       "    <tr>\n",
       "      <td>14</td>\n",
       "      <td>Argentina</td>\n",
       "      <td>Baked plum, molasses, balsamic vinegar and che...</td>\n",
       "      <td>87</td>\n",
       "      <td>30.0</td>\n",
       "      <td>Other</td>\n",
       "      <td>Michael Schachner</td>\n",
       "      <td>Felix Lavaque 2010 Felix Malbec (Cafayate)</td>\n",
       "      <td>Malbec</td>\n",
       "      <td>2327</td>\n",
       "    </tr>\n",
       "  </tbody>\n",
       "</table>\n",
       "</div>"
      ],
      "text/plain": [
       "      country                                        description  points  \\\n",
       "0    Portugal  This is ripe and fruity, a wine that is smooth...      87   \n",
       "1          US  Tart and snappy, the flavors of lime flesh and...      87   \n",
       "2          US  Pineapple rind, lemon pith and orange blossom ...      87   \n",
       "3          US  Much like the regular bottling from 2012, this...      87   \n",
       "8      France  This has great depth of flavor with its fresh ...      87   \n",
       "9          US  Soft, supple plum envelopes an oaky structure ...      87   \n",
       "11         US  Slightly reduced, this wine offers a chalky, t...      87   \n",
       "12         US  Building on 150 years and six generations of w...      87   \n",
       "13    Germany  Zesty orange peels and apple notes abound in t...      87   \n",
       "14  Argentina  Baked plum, molasses, balsamic vinegar and che...      87   \n",
       "\n",
       "    price    province         taster_name  \\\n",
       "0    15.0       Douro          Roger Voss   \n",
       "1    14.0      Oregon        Paul Gregutt   \n",
       "2    13.0    Michigan  Alexander Peartree   \n",
       "3    65.0      Oregon        Paul Gregutt   \n",
       "8    27.0      Alsace          Roger Voss   \n",
       "9    19.0  California      Virginie Boone   \n",
       "11   34.0  California      Virginie Boone   \n",
       "12   12.0  California       Matt Kettmann   \n",
       "13   24.0       Mosel  Anna Lee C. Iijima   \n",
       "14   30.0       Other   Michael Schachner   \n",
       "\n",
       "                                                title             variety  \\\n",
       "0       Quinta dos Avidagos 2011 Avidagos Red (Douro)      Portuguese Red   \n",
       "1       Rainstorm 2013 Pinot Gris (Willamette Valley)          Pinot Gris   \n",
       "2   St. Julian 2013 Reserve Late Harvest Riesling ...            Riesling   \n",
       "3   Sweet Cheeks 2012 Vintner's Reserve Wild Child...          Pinot Noir   \n",
       "8   Jean-Baptiste Adam 2012 Les Natures Pinot Gris...          Pinot Gris   \n",
       "9   Kirkland Signature 2011 Mountain Cuvée Caberne...  Cabernet Sauvignon   \n",
       "11  Louis M. Martini 2012 Cabernet Sauvignon (Alex...  Cabernet Sauvignon   \n",
       "12           Mirassou 2012 Chardonnay (Central Coast)          Chardonnay   \n",
       "13        Richard Böcking 2013 Devon Riesling (Mosel)            Riesling   \n",
       "14         Felix Lavaque 2010 Felix Malbec (Cafayate)              Malbec   \n",
       "\n",
       "    reviews  \n",
       "0      2028  \n",
       "1      1157  \n",
       "2      4331  \n",
       "3      9014  \n",
       "8      1157  \n",
       "9      5716  \n",
       "11     5716  \n",
       "12     7586  \n",
       "13     4331  \n",
       "14     2327  "
      ]
     },
     "execution_count": 15,
     "metadata": {},
     "output_type": "execute_result"
    }
   ],
   "source": [
    "wines1 = wine_df.merge(varieties, on=\"variety\", how='left')\n",
    "wines = wines1[wines1['reviews'] >= 1000]\n",
    "wines.head(10)"
   ]
  },
  {
   "cell_type": "code",
   "execution_count": 16,
   "metadata": {},
   "outputs": [
    {
     "data": {
      "text/plain": [
       "22"
      ]
     },
     "execution_count": 16,
     "metadata": {},
     "output_type": "execute_result"
    }
   ],
   "source": [
    "# double check how many unique varieties we have left\n",
    "wines.variety.nunique()"
   ]
  },
  {
   "cell_type": "markdown",
   "metadata": {},
   "source": [
    "### Part 2: Exploratory Data Analysis & Visualization "
   ]
  },
  {
   "cell_type": "code",
   "execution_count": 17,
   "metadata": {},
   "outputs": [],
   "source": [
    "import seaborn as sns\n",
    "import matplotlib.pyplot as plt"
   ]
  },
  {
   "cell_type": "code",
   "execution_count": 18,
   "metadata": {},
   "outputs": [
    {
     "data": {
      "text/plain": [
       "<matplotlib.axes._subplots.AxesSubplot at 0x1f2958a3788>"
      ]
     },
     "execution_count": 18,
     "metadata": {},
     "output_type": "execute_result"
    },
    {
     "data": {
      "image/png": "[encoded data removed]",
      "text/plain": [
       "<Figure size 432x288 with 1 Axes>"
      ]
     },
     "metadata": {
      "needs_background": "light"
     },
     "output_type": "display_data"
    }
   ],
   "source": [
    "wines['variety'].value_counts().head(20).plot.bar()\n"
   ]
  },
  {
   "cell_type": "code",
   "execution_count": 19,
   "metadata": {},
   "outputs": [
    {
     "data": {
      "text/plain": [
       "<matplotlib.axes._subplots.AxesSubplot at 0x1f29605a6c8>"
      ]
     },
     "execution_count": 19,
     "metadata": {},
     "output_type": "execute_result"
    },
    {
     "data": {
      "image/png": "[encoded data removed]",
      "text/plain": [
       "<Figure size 432x288 with 1 Axes>"
      ]
     },
     "metadata": {
      "needs_background": "light"
     },
     "output_type": "display_data"
    }
   ],
   "source": [
    "wines['country'].value_counts().head(20).plot.bar()"
   ]
  },
  {
   "cell_type": "code",
   "execution_count": 20,
   "metadata": {},
   "outputs": [
    {
     "data": {
      "text/plain": [
       "<matplotlib.axes._subplots.AxesSubplot at 0x1f2960c2f08>"
      ]
     },
     "execution_count": 20,
     "metadata": {},
     "output_type": "execute_result"
    },
    {
     "data": {
      "image/png": "[encoded data removed]",
      "text/plain": [
       "<Figure size 432x288 with 1 Axes>"
      ]
     },
     "metadata": {
      "needs_background": "light"
     },
     "output_type": "display_data"
    }
   ],
   "source": [
    "wines['price'].value_counts().head(20).plot.bar()"
   ]
  },
  {
   "cell_type": "code",
   "execution_count": 21,
   "metadata": {},
   "outputs": [
    {
     "data": {
      "text/plain": [
       "<matplotlib.axes._subplots.AxesSubplot at 0x1f296208b48>"
      ]
     },
     "execution_count": 21,
     "metadata": {},
     "output_type": "execute_result"
    },
    {
     "data": {
      "image/png": "[encoded data removed]",
      "text/plain": [
       "<Figure size 432x288 with 1 Axes>"
      ]
     },
     "metadata": {
      "needs_background": "light"
     },
     "output_type": "display_data"
    }
   ],
   "source": [
    "# Score distrubution (Every wine gets a score between 80 and 100)\n",
    "sns.countplot(wines['points'])"
   ]
  },
  {
   "cell_type": "code",
   "execution_count": 22,
   "metadata": {},
   "outputs": [
    {
     "data": {
      "text/plain": [
       "<matplotlib.axes._subplots.AxesSubplot at 0x1f2964fbfc8>"
      ]
     },
     "execution_count": 22,
     "metadata": {},
     "output_type": "execute_result"
    },
    {
     "data": {
      "image/png": "[encoded data removed]",
      "text/plain": [
       "<Figure size 432x288 with 2 Axes>"
      ]
     },
     "metadata": {
      "needs_background": "light"
     },
     "output_type": "display_data"
    }
   ],
   "source": [
    "# Hexplot\n",
    "import matplotlib.pyplot as plt\n",
    "import numpy as np \n",
    "import seaborn as sns \n",
    "from scipy.stats import kurtosis, skew \n",
    "from scipy import stats\n",
    "wines[wines['price'] < 200].plot.hexbin(x=\"price\", y=\"points\", gridsize=20)"
   ]
  },
  {
   "cell_type": "code",
   "execution_count": 23,
   "metadata": {},
   "outputs": [
    {
     "data": {
      "text/plain": [
       "<seaborn.axisgrid.PairGrid at 0x1f28ea56608>"
      ]
     },
     "execution_count": 23,
     "metadata": {},
     "output_type": "execute_result"
    },
    {
     "data": {
      "image/png": "[encoded data removed]",
      "text/plain": [
       "<Figure size 540x540 with 12 Axes>"
      ]
     },
     "metadata": {
      "needs_background": "light"
     },
     "output_type": "display_data"
    }
   ],
   "source": [
    "#pair plots are very useful to give us ideas on how to proceed with data cleaning and possible correlations\n",
    "sns.pairplot(wines)"
   ]
  },
  {
   "cell_type": "code",
   "execution_count": 24,
   "metadata": {},
   "outputs": [],
   "source": [
    "#!pip install plotnine\n",
    "from plotnine import *"
   ]
  },
  {
   "cell_type": "code",
   "execution_count": 25,
   "metadata": {},
   "outputs": [
    {
     "data": {
      "image/png": "[encoded data removed]",
      "text/plain": [
       "<Figure size 360x360 with 1 Axes>"
      ]
     },
     "metadata": {
      "needs_background": "light"
     },
     "output_type": "display_data"
    }
   ],
   "source": [
    "prices_by_variety = wines[[\"price\", \"variety\"]].dropna()\n",
    "ratings_by_price = wines[[\"price\", \"points\"]]\n",
    "\n",
    "# Remove all data greater than the 98th percentile\n",
    "val = prices_by_variety[\"price\"].quantile(0.98)\n",
    "ratings_by_price = ratings_by_price[ratings_by_price[\"price\"] < val]\n",
    "\n",
    "ax = sns.lmplot(x = \"price\", y = \"points\", data = ratings_by_price)\n",
    "\n",
    "\n",
    "ax.set(xlabel = \"Price (USD)\", ylabel = \"Rating\")\n",
    "\n",
    "plt.show()"
   ]
  },
  {
   "cell_type": "code",
   "execution_count": 26,
   "metadata": {},
   "outputs": [],
   "source": [
    "# Is there a relationship between wine price and variety?\n",
    "wines_per_variety = wines[wines['variety'].isin(wines['variety'].value_counts().head(5).index)].dropna()\n",
    "# Remove all data greater than the 98th percentile\n",
    "val = wines_per_variety[\"price\"].quantile(0.98)\n",
    "wines_per_variety = wines_per_variety[wines_per_variety[\"price\"] < val]"
   ]
  },
  {
   "cell_type": "code",
   "execution_count": 27,
   "metadata": {},
   "outputs": [
    {
     "data": {
      "image/png": "[encoded data removed]",
      "text/plain": [
       "<Figure size 640x480 with 5 Axes>"
      ]
     },
     "metadata": {},
     "output_type": "display_data"
    },
    {
     "data": {
      "text/plain": [
       "<ggplot: (-9223371903008312084)>"
      ]
     },
     "execution_count": 27,
     "metadata": {},
     "output_type": "execute_result"
    }
   ],
   "source": [
    "# Remove all data greater than the 98th percentile\n",
    "val = prices_by_variety[\"price\"].quantile(0.98)\n",
    "ratings_by_price = ratings_by_price[ratings_by_price[\"price\"] < val]\n",
    "\n",
    "(ggplot(wines_per_variety)\n",
    "     + aes('points', 'price')\n",
    "     + aes(color='points')\n",
    "     + geom_point()\n",
    "     + stat_smooth()\n",
    "     + facet_wrap('~variety')\n",
    ")\n"
   ]
  },
  {
   "cell_type": "markdown",
   "metadata": {},
   "source": [
    "### Part 3 : Predicting Wine Variety from Text Reviews\n"
   ]
  },
  {
   "cell_type": "code",
   "execution_count": 28,
   "metadata": {},
   "outputs": [],
   "source": [
    "#The purpose of this part is to familiarize with NLP techniques."
   ]
  },
  {
   "cell_type": "code",
   "execution_count": 29,
   "metadata": {},
   "outputs": [],
   "source": [
    "#At this point we can choose which and how many features we like to go with. \n",
    "#We will start by only using the description\n",
    "\n",
    "#Let's start with TfidfVectorizer with no text pre-processing\n",
    "from sklearn.feature_extraction.text import CountVectorizer, TfidfVectorizer\n",
    "from sklearn.model_selection import train_test_split\n",
    "from sklearn.ensemble import RandomForestClassifier\n",
    "from sklearn.metrics import confusion_matrix, classification_report\n"
   ]
  },
  {
   "cell_type": "code",
   "execution_count": 30,
   "metadata": {},
   "outputs": [],
   "source": [
    "#Below are a set of libraries that can be used, we recommend to only install spacy for now\n",
    "#!pip install nltk\n",
    "#!pip install spacy\n",
    "#!python -m spacy download en\n",
    "#!pip install wordcloud\n",
    "import spacy\n",
    "import string\n",
    "from spacy.lang.en.stop_words import STOP_WORDS\n",
    "from spacy.lang.en import English"
   ]
  },
  {
   "cell_type": "code",
   "execution_count": 31,
   "metadata": {},
   "outputs": [],
   "source": [
    "# Create our list of punctuation marks\n",
    "punctuations = string.punctuation\n",
    "\n",
    "# Create our list of stopwords\n",
    "nlp = spacy.load('en')\n",
    "stop_words = spacy.lang.en.stop_words.STOP_WORDS\n",
    "\n",
    "# Load English tokenizer, tagger, parser, NER and word vectors\n",
    "parser = English()"
   ]
  },
  {
   "cell_type": "code",
   "execution_count": 32,
   "metadata": {},
   "outputs": [],
   "source": [
    "# We will update the stop words that we want to be removed from the review description. These include any ferenece to the grape variety we are trying to predict and also colour reference.\n",
    "# We check also for both lower and upper case sentences.\n",
    "grape_variety = wines.variety.unique().tolist()\n",
    "grape_variety_lc = [x.lower() for x in grape_variety]\n",
    "grape_variety_broken = [i.replace('-', ' ').replace(',', ' ').split(' ') for i in grape_variety_lc]\n",
    "grape_variety_broken = [item for sublist in grape_variety_broken for item in sublist]\n",
    "grape_variety_broken.remove('red')\n",
    "grape_variety_broken.remove('white')"
   ]
  },
  {
   "cell_type": "code",
   "execution_count": 33,
   "metadata": {},
   "outputs": [],
   "source": [
    "stop_words1 = stop_words.update(grape_variety,grape_variety_lc,grape_variety_broken)\n",
    "stop_words1"
   ]
  },
  {
   "cell_type": "code",
   "execution_count": 34,
   "metadata": {},
   "outputs": [],
   "source": [
    "X = wines['description']\n",
    "y = wines['variety']\n",
    "\n",
    "#split data into test and train\n",
    "X_train, X_test, y_train, y_test = train_test_split(X, y, test_size = 0.2)"
   ]
  },
  {
   "cell_type": "code",
   "execution_count": 35,
   "metadata": {},
   "outputs": [
    {
     "data": {
      "text/plain": [
       "<53041x3000 sparse matrix of type '<class 'numpy.int64'>'\n",
       "\twith 2520426 stored elements in Compressed Sparse Row format>"
      ]
     },
     "execution_count": 35,
     "metadata": {},
     "output_type": "execute_result"
    }
   ],
   "source": [
    "#Bag of words vectorization\n",
    "from sklearn.feature_extraction.text import CountVectorizer\n",
    "vec = CountVectorizer(stop_words = stop_words1, ngram_range=(1, 3), max_features=3000) \n",
    "X_train_vec = vec.fit_transform(X_train)\n",
    "X_train_vec"
   ]
  },
  {
   "cell_type": "code",
   "execution_count": 36,
   "metadata": {},
   "outputs": [
    {
     "data": {
      "text/plain": [
       "LogisticRegression(C=1.0, class_weight=None, dual=False, fit_intercept=True,\n",
       "                   intercept_scaling=1, l1_ratio=None, max_iter=100,\n",
       "                   multi_class='warn', n_jobs=None, penalty='l2',\n",
       "                   random_state=None, solver='warn', tol=0.0001, verbose=0,\n",
       "                   warm_start=False)"
      ]
     },
     "execution_count": 36,
     "metadata": {},
     "output_type": "execute_result"
    }
   ],
   "source": [
    "from sklearn.linear_model import LogisticRegression\n",
    "logit = LogisticRegression()\n",
    "logit.fit(X_train_vec, y_train)"
   ]
  },
  {
   "cell_type": "code",
   "execution_count": 37,
   "metadata": {},
   "outputs": [
    {
     "data": {
      "text/plain": [
       "[('Sparkling Blend', 'Chardonnay'),\n",
       " ('Syrah', 'Malbec'),\n",
       " ('Cabernet Sauvignon', 'Cabernet Sauvignon'),\n",
       " ('Sauvignon Blanc', 'Sauvignon Blanc'),\n",
       " ('Riesling', 'Sauvignon Blanc'),\n",
       " ('Pinot Noir', 'Pinot Noir'),\n",
       " ('Pinot Gris', 'Pinot Gris'),\n",
       " ('Portuguese Red', 'Portuguese Red'),\n",
       " ('Pinot Noir', 'Merlot'),\n",
       " ('Riesling', 'Grüner Veltliner')]"
      ]
     },
     "execution_count": 37,
     "metadata": {},
     "output_type": "execute_result"
    }
   ],
   "source": [
    "X_test_vec= vec.transform(X_test)\n",
    "y_pred = logit.predict(X_test_vec)\n",
    "list(zip(y_pred, y_test))[:10]"
   ]
  },
  {
   "cell_type": "code",
   "execution_count": 38,
   "metadata": {},
   "outputs": [
    {
     "data": {
      "text/plain": [
       "0.6560591207299601"
      ]
     },
     "execution_count": 38,
     "metadata": {},
     "output_type": "execute_result"
    }
   ],
   "source": [
    "from sklearn import metrics\n",
    "\n",
    "metrics.accuracy_score(y_test, y_pred)"
   ]
  },
  {
   "cell_type": "code",
   "execution_count": 39,
   "metadata": {},
   "outputs": [
    {
     "name": "stdout",
     "output_type": "stream",
     "text": [
      "                          precision    recall  f1-score   support\n",
      "\n",
      "Bordeaux-style Red Blend       0.66      0.67      0.67       879\n",
      "      Cabernet Sauvignon       0.57      0.60      0.59      1135\n",
      "         Champagne Blend       0.69      0.58      0.63       213\n",
      "              Chardonnay       0.73      0.84      0.78      1501\n",
      "        Grüner Veltliner       0.69      0.64      0.67       209\n",
      "                  Malbec       0.55      0.50      0.52       480\n",
      "                  Merlot       0.42      0.28      0.34       393\n",
      "                Nebbiolo       0.68      0.71      0.70       277\n",
      "              Pinot Gris       0.69      0.47      0.56       260\n",
      "              Pinot Noir       0.70      0.78      0.74      1857\n",
      "          Portuguese Red       0.61      0.65      0.63       421\n",
      "               Red Blend       0.64      0.62      0.63      1201\n",
      "   Rhône-style Red Blend       0.66      0.53      0.58       217\n",
      "                Riesling       0.80      0.87      0.83       828\n",
      "                    Rosé       0.72      0.73      0.72       531\n",
      "              Sangiovese       0.55      0.50      0.53       335\n",
      "         Sauvignon Blanc       0.69      0.67      0.68       718\n",
      "         Sparkling Blend       0.65      0.53      0.58       303\n",
      "                   Syrah       0.58      0.49      0.53       576\n",
      "             Tempranillo       0.43      0.43      0.43       315\n",
      "             White Blend       0.66      0.54      0.59       311\n",
      "               Zinfandel       0.51      0.50      0.51       301\n",
      "\n",
      "                accuracy                           0.66     13261\n",
      "               macro avg       0.63      0.60      0.61     13261\n",
      "            weighted avg       0.65      0.66      0.65     13261\n",
      "\n"
     ]
    }
   ],
   "source": [
    "print(metrics.classification_report(y_test, y_pred))"
   ]
  },
  {
   "cell_type": "code",
   "execution_count": 40,
   "metadata": {},
   "outputs": [
    {
     "data": {
      "text/plain": [
       "(53041, 3000)"
      ]
     },
     "execution_count": 40,
     "metadata": {},
     "output_type": "execute_result"
    }
   ],
   "source": [
    "# Try TFIDF \n",
    "from sklearn.feature_extraction.text import TfidfTransformer\n",
    "tf = TfidfTransformer()\n",
    "X_tf = tf.fit_transform(X_train_vec)\n",
    "X_tf.shape\n"
   ]
  },
  {
   "cell_type": "code",
   "execution_count": 41,
   "metadata": {},
   "outputs": [
    {
     "data": {
      "text/plain": [
       "LogisticRegression(C=1.0, class_weight=None, dual=False, fit_intercept=True,\n",
       "                   intercept_scaling=1, l1_ratio=None, max_iter=100,\n",
       "                   multi_class='warn', n_jobs=None, penalty='l2',\n",
       "                   random_state=None, solver='warn', tol=0.0001, verbose=0,\n",
       "                   warm_start=False)"
      ]
     },
     "execution_count": 41,
     "metadata": {},
     "output_type": "execute_result"
    }
   ],
   "source": [
    "from sklearn.linear_model import LogisticRegression\n",
    "logit = LogisticRegression()\n",
    "logit.fit(X_tf, y_train)"
   ]
  },
  {
   "cell_type": "code",
   "execution_count": 42,
   "metadata": {},
   "outputs": [],
   "source": [
    "X_test_vec= vec.transform(X_test)\n",
    "X_test_tf = tf.transform(X_test_vec)\n",
    "y_pred = logit.predict(X_test_tf)"
   ]
  },
  {
   "cell_type": "code",
   "execution_count": 43,
   "metadata": {},
   "outputs": [
    {
     "data": {
      "text/plain": [
       "0.6605836663901666"
      ]
     },
     "execution_count": 43,
     "metadata": {},
     "output_type": "execute_result"
    }
   ],
   "source": [
    "from sklearn import metrics\n",
    "\n",
    "metrics.accuracy_score(y_test, y_pred)"
   ]
  },
  {
   "cell_type": "code",
   "execution_count": 44,
   "metadata": {},
   "outputs": [],
   "source": [
    "# This is a low prediction score, but before we worry about increasing accuracy let's reflect on what we were trying to predict.\n",
    "# We took text reviews with words reflecting on taste, smell etc and trying to predict the variety of wines.\n",
    "# Essentially, this was a blind testing experiement. Would it make sense if we had a higher prediction accuracy?"
   ]
  },
  {
   "cell_type": "markdown",
   "metadata": {},
   "source": [
    "### Part 4 : Predicting Wine Price from Text Reviews"
   ]
  },
  {
   "cell_type": "code",
   "execution_count": 45,
   "metadata": {},
   "outputs": [],
   "source": [
    "# For the next step we need to make a decision of the type of learning algorithm we want to use. \n",
    "# We should also decide if we want to process each word as a vector or the whole review as a vector."
   ]
  },
  {
   "cell_type": "code",
   "execution_count": 46,
   "metadata": {
    "scrolled": true
   },
   "outputs": [
    {
     "data": {
      "text/plain": [
       "count    88244.000000\n",
       "mean        35.294502\n",
       "std         44.409695\n",
       "min          4.000000\n",
       "25%         17.000000\n",
       "50%         25.000000\n",
       "75%         42.000000\n",
       "max       3300.000000\n",
       "Name: price, dtype: float64"
      ]
     },
     "execution_count": 46,
     "metadata": {},
     "output_type": "execute_result"
    }
   ],
   "source": [
    "#As a first step step we can chose to drop very high wine prices.\n",
    "wine_df['price'].describe()"
   ]
  },
  {
   "cell_type": "code",
   "execution_count": 47,
   "metadata": {},
   "outputs": [
    {
     "data": {
      "text/plain": [
       "(88244, 8)"
      ]
     },
     "execution_count": 47,
     "metadata": {},
     "output_type": "execute_result"
    }
   ],
   "source": [
    "wine_df.shape"
   ]
  },
  {
   "cell_type": "code",
   "execution_count": 48,
   "metadata": {},
   "outputs": [],
   "source": [
    "wines_df_price = wine_df[wine_df[\"price\"] <= 100]"
   ]
  },
  {
   "cell_type": "code",
   "execution_count": 49,
   "metadata": {},
   "outputs": [],
   "source": [
    "#changing price from float to integer with the help of numpy\n",
    "wines_df_price['price'] = wines_df_price['price'].astype(np.int64)"
   ]
  },
  {
   "cell_type": "code",
   "execution_count": 50,
   "metadata": {},
   "outputs": [
    {
     "data": {
      "text/plain": [
       "1    15\n",
       "2    14\n",
       "Name: price, dtype: int64"
      ]
     },
     "execution_count": 50,
     "metadata": {},
     "output_type": "execute_result"
    }
   ],
   "source": [
    "wines_df_price['price'].head(2)"
   ]
  },
  {
   "cell_type": "code",
   "execution_count": 51,
   "metadata": {},
   "outputs": [
    {
     "data": {
      "text/plain": [
       "count    85686.000000\n",
       "mean        30.595535\n",
       "std         19.176729\n",
       "min          4.000000\n",
       "25%         16.000000\n",
       "50%         25.000000\n",
       "75%         40.000000\n",
       "max        100.000000\n",
       "Name: price, dtype: float64"
      ]
     },
     "execution_count": 51,
     "metadata": {},
     "output_type": "execute_result"
    }
   ],
   "source": [
    "wines_df_price['price'].describe()"
   ]
  },
  {
   "cell_type": "code",
   "execution_count": 52,
   "metadata": {},
   "outputs": [
    {
     "data": {
      "text/plain": [
       "20    5188\n",
       "15    4626\n",
       "25    4322\n",
       "30    3555\n",
       "18    3513\n",
       "12    3053\n",
       "13    2790\n",
       "35    2692\n",
       "40    2655\n",
       "10    2635\n",
       "Name: price, dtype: int64"
      ]
     },
     "execution_count": 52,
     "metadata": {},
     "output_type": "execute_result"
    }
   ],
   "source": [
    "wines_df_price[\"price\"].value_counts().head(10)"
   ]
  },
  {
   "cell_type": "code",
   "execution_count": 53,
   "metadata": {},
   "outputs": [],
   "source": [
    "# We create price groups for convinience and because we want to create discrete values instead of continuous.\n",
    "# We also create a new column price category (categories selected after checking distribution of price per category)\n",
    "\n",
    "def prices_to_class(price):\n",
    "    if price in range(0,20):\n",
    "        return 0\n",
    "    elif price in range(20,31):\n",
    "        return 1\n",
    "    elif price in range(31,101):\n",
    "        return 2\n",
    "    else:\n",
    "        return 3\n",
    "    \n",
    "wines_df_price[\"price_cat\"] = wines_df_price[\"price\"].apply(prices_to_class)"
   ]
  },
  {
   "cell_type": "code",
   "execution_count": 54,
   "metadata": {},
   "outputs": [
    {
     "data": {
      "text/plain": [
       "2    30908\n",
       "0    29870\n",
       "1    24908\n",
       "Name: price_cat, dtype: int64"
      ]
     },
     "execution_count": 54,
     "metadata": {},
     "output_type": "execute_result"
    }
   ],
   "source": [
    "#Checking the categories and making sure that the 3rd group is empty\n",
    "wines_df_price[\"price_cat\"].value_counts()"
   ]
  },
  {
   "cell_type": "code",
   "execution_count": 55,
   "metadata": {},
   "outputs": [],
   "source": [
    "X = wines_df_price['description']\n",
    "y = wines_df_price['price_cat']\n",
    "\n",
    "#split data into test and train\n",
    "X_train, X_test, y_train, y_test = train_test_split(X, y, test_size = 0.2)"
   ]
  },
  {
   "cell_type": "code",
   "execution_count": 56,
   "metadata": {},
   "outputs": [
    {
     "data": {
      "text/plain": [
       "<68548x3000 sparse matrix of type '<class 'numpy.int64'>'\n",
       "\twith 1714639 stored elements in Compressed Sparse Row format>"
      ]
     },
     "execution_count": 56,
     "metadata": {},
     "output_type": "execute_result"
    }
   ],
   "source": [
    "#Bag of words vectorization\n",
    "vec = CountVectorizer(stop_words = stop_words, ngram_range=(1, 3), max_features=3000) \n",
    "X_train_vec = vec.fit_transform(X_train)\n",
    "X_train_vec"
   ]
  },
  {
   "cell_type": "code",
   "execution_count": 57,
   "metadata": {},
   "outputs": [
    {
     "data": {
      "text/plain": [
       "(68548, 3000)"
      ]
     },
     "execution_count": 57,
     "metadata": {},
     "output_type": "execute_result"
    }
   ],
   "source": [
    "tf = TfidfTransformer()\n",
    "X_tf = tf.fit_transform(X_train_vec)\n",
    "X_tf.shape\n"
   ]
  },
  {
   "cell_type": "code",
   "execution_count": 58,
   "metadata": {},
   "outputs": [
    {
     "data": {
      "text/plain": [
       "LogisticRegression(C=1.0, class_weight=None, dual=False, fit_intercept=True,\n",
       "                   intercept_scaling=1, l1_ratio=None, max_iter=100,\n",
       "                   multi_class='warn', n_jobs=None, penalty='l2',\n",
       "                   random_state=None, solver='warn', tol=0.0001, verbose=0,\n",
       "                   warm_start=False)"
      ]
     },
     "execution_count": 58,
     "metadata": {},
     "output_type": "execute_result"
    }
   ],
   "source": [
    "logit = LogisticRegression()\n",
    "logit.fit(X_tf, y_train)"
   ]
  },
  {
   "cell_type": "code",
   "execution_count": 59,
   "metadata": {},
   "outputs": [],
   "source": [
    "X_test_vec= vec.transform(X_test)\n",
    "X_test_tf = tf.transform(X_test_vec)\n",
    "y_pred = logit.predict(X_test_tf)"
   ]
  },
  {
   "cell_type": "code",
   "execution_count": 60,
   "metadata": {},
   "outputs": [
    {
     "data": {
      "text/plain": [
       "0.5992531217178201"
      ]
     },
     "execution_count": 60,
     "metadata": {},
     "output_type": "execute_result"
    }
   ],
   "source": [
    "metrics.accuracy_score(y_test, y_pred)"
   ]
  },
  {
   "cell_type": "code",
   "execution_count": 63,
   "metadata": {},
   "outputs": [
    {
     "name": "stdout",
     "output_type": "stream",
     "text": [
      "              precision    recall  f1-score   support\n",
      "\n",
      "           0       0.62      0.75      0.68      5913\n",
      "           1       0.42      0.23      0.29      4970\n",
      "           2       0.64      0.76      0.70      6255\n",
      "\n",
      "    accuracy                           0.60     17138\n",
      "   macro avg       0.56      0.58      0.56     17138\n",
      "weighted avg       0.57      0.60      0.57     17138\n",
      "\n"
     ]
    }
   ],
   "source": [
    "print(metrics.classification_report(y_test, y_pred))"
   ]
  },
  {
   "cell_type": "code",
   "execution_count": 61,
   "metadata": {},
   "outputs": [],
   "source": [
    "# Can you suggest ways to increase our accuracy ?"
   ]
  },
  {
   "cell_type": "markdown",
   "metadata": {},
   "source": [
    "### Part 5 : Predicting Wine Price from Text Reviews (advanced )"
   ]
  },
  {
   "cell_type": "code",
   "execution_count": 62,
   "metadata": {},
   "outputs": [],
   "source": [
    "# Try to develop a pipeline predicting wine price. (hint: processing text by embedding each word in its own vector. Predict with a Recurrent Neural Network )"
   ]
  },
  {
   "cell_type": "markdown",
   "metadata": {},
   "source": [
    "References & additional reading material: https://towardsdatascience.com/generating-wine-recommendations-using-the-universal-sentence-encoder-d086edd13d00, https://www.kaggle.com/zynicide/wine-reviews, https://nlp.stanford.edu/projects/glove/, https://towardsdatascience.com/predicting-wine-quality-using-text-reviews-8bddaeb5285d, https://medium.com/tensorflow/predicting-the-price-of-wine-with-the-keras-functional-api-and-tensorflow-a95d1c2c1b03, https://www.kaggle.com/jellyfish0821/wine-reviews-machine-learning-pipeline, https://mlcourse.ai/"
   ]
  }
 ],
 "metadata": {
  "kernelspec": {
   "display_name": "Python 3",
   "language": "python",
   "name": "python3"
  },
  "language_info": {
   "codemirror_mode": {
    "name": "ipython",
    "version": 3
   },
   "file_extension": ".py",
   "mimetype": "text/x-python",
   "name": "python",
   "nbconvert_exporter": "python",
   "pygments_lexer": "ipython3",
   "version": "3.7.4"
  }
 },
 "nbformat": 4,
 "nbformat_minor": 2
}
