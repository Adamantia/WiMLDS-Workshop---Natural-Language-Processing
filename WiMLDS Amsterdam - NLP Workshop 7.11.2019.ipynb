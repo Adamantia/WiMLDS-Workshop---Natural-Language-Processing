{
 "cells": [
  {
   "cell_type": "markdown",
   "metadata": {},
   "source": [
    "# Natural Language Processing Workshop :\n",
    "# Analyzing wine descriptions, rating, variety and predicting price\n",
    "<img src=\"https://secure.meetupstatic.com/photos/event/8/4/9/0/highres_485793936.jpeg\">\n"
   ]
  },
  {
   "cell_type": "markdown",
   "metadata": {},
   "source": [
    "References & additional reading material: https://towardsdatascience.com/generating-wine-recommendations-using-the-universal-sentence-encoder-d086edd13d00, https://www.kaggle.com/zynicide/wine-reviews, https://nlp.stanford.edu/projects/glove/, https://towardsdatascience.com/predicting-wine-quality-using-text-reviews-8bddaeb5285d, https://medium.com/tensorflow/predicting-the-price-of-wine-with-the-keras-functional-api-and-tensorflow-a95d1c2c1b03, https://www.kaggle.com/jellyfish0821/wine-reviews-machine-learning-pipeline"
   ]
  },
  {
   "cell_type": "markdown",
   "metadata": {},
   "source": [
    "### 1: Getting Started : Importing & cleaning data\n"
   ]
  },
  {
   "cell_type": "markdown",
   "metadata": {},
   "source": [
    " For the first part we will be reading the data, some basic exploration and cleaning. During this process we will also try to determine the quality of our data and decide on how to proceed with our data analysis."
   ]
  },
  {
   "cell_type": "code",
   "execution_count": 1,
   "metadata": {},
   "outputs": [],
   "source": [
    "# Pandas is an open source Python library that offers data structures and data analysis tools and operations. Read more at: https://pandas.pydata.org/\n",
    "import pandas as pd\n",
    "import warnings\n",
    "warnings.filterwarnings('ignore')"
   ]
  },
  {
   "cell_type": "code",
   "execution_count": 2,
   "metadata": {},
   "outputs": [],
   "source": [
    "# First we start by importing the data\n",
    "wine_reviews = pd.read_csv(\"wine-reviews/winemag-data-130k-v2.csv\")\n"
   ]
  },
  {
   "cell_type": "code",
   "execution_count": 3,
   "metadata": {},
   "outputs": [
    {
     "data": {
      "text/plain": [
       "(129971, 14)"
      ]
     },
     "execution_count": 3,
     "metadata": {},
     "output_type": "execute_result"
    }
   ],
   "source": [
    "# Check how large is our dataframe \n",
    "wine_reviews.shape"
   ]
  },
  {
   "cell_type": "code",
   "execution_count": 4,
   "metadata": {},
   "outputs": [
    {
     "data": {
      "text/html": [
       "<div>\n",
       "<style scoped>\n",
       "    .dataframe tbody tr th:only-of-type {\n",
       "        vertical-align: middle;\n",
       "    }\n",
       "\n",
       "    .dataframe tbody tr th {\n",
       "        vertical-align: top;\n",
       "    }\n",
       "\n",
       "    .dataframe thead th {\n",
       "        text-align: right;\n",
       "    }\n",
       "</style>\n",
       "<table border=\"1\" class=\"dataframe\">\n",
       "  <thead>\n",
       "    <tr style=\"text-align: right;\">\n",
       "      <th></th>\n",
       "      <th>Unnamed: 0</th>\n",
       "      <th>country</th>\n",
       "      <th>description</th>\n",
       "      <th>designation</th>\n",
       "      <th>points</th>\n",
       "      <th>price</th>\n",
       "      <th>province</th>\n",
       "      <th>region_1</th>\n",
       "      <th>region_2</th>\n",
       "      <th>taster_name</th>\n",
       "      <th>taster_twitter_handle</th>\n",
       "      <th>title</th>\n",
       "      <th>variety</th>\n",
       "      <th>winery</th>\n",
       "    </tr>\n",
       "  </thead>\n",
       "  <tbody>\n",
       "    <tr>\n",
       "      <td>0</td>\n",
       "      <td>0</td>\n",
       "      <td>Italy</td>\n",
       "      <td>Aromas include tropical fruit, broom, brimston...</td>\n",
       "      <td>Vulkà Bianco</td>\n",
       "      <td>87</td>\n",
       "      <td>NaN</td>\n",
       "      <td>Sicily &amp; Sardinia</td>\n",
       "      <td>Etna</td>\n",
       "      <td>NaN</td>\n",
       "      <td>Kerin O’Keefe</td>\n",
       "      <td>@kerinokeefe</td>\n",
       "      <td>Nicosia 2013 Vulkà Bianco  (Etna)</td>\n",
       "      <td>White Blend</td>\n",
       "      <td>Nicosia</td>\n",
       "    </tr>\n",
       "    <tr>\n",
       "      <td>1</td>\n",
       "      <td>1</td>\n",
       "      <td>Portugal</td>\n",
       "      <td>This is ripe and fruity, a wine that is smooth...</td>\n",
       "      <td>Avidagos</td>\n",
       "      <td>87</td>\n",
       "      <td>15.0</td>\n",
       "      <td>Douro</td>\n",
       "      <td>NaN</td>\n",
       "      <td>NaN</td>\n",
       "      <td>Roger Voss</td>\n",
       "      <td>@vossroger</td>\n",
       "      <td>Quinta dos Avidagos 2011 Avidagos Red (Douro)</td>\n",
       "      <td>Portuguese Red</td>\n",
       "      <td>Quinta dos Avidagos</td>\n",
       "    </tr>\n",
       "    <tr>\n",
       "      <td>2</td>\n",
       "      <td>2</td>\n",
       "      <td>US</td>\n",
       "      <td>Tart and snappy, the flavors of lime flesh and...</td>\n",
       "      <td>NaN</td>\n",
       "      <td>87</td>\n",
       "      <td>14.0</td>\n",
       "      <td>Oregon</td>\n",
       "      <td>Willamette Valley</td>\n",
       "      <td>Willamette Valley</td>\n",
       "      <td>Paul Gregutt</td>\n",
       "      <td>@paulgwine</td>\n",
       "      <td>Rainstorm 2013 Pinot Gris (Willamette Valley)</td>\n",
       "      <td>Pinot Gris</td>\n",
       "      <td>Rainstorm</td>\n",
       "    </tr>\n",
       "    <tr>\n",
       "      <td>3</td>\n",
       "      <td>3</td>\n",
       "      <td>US</td>\n",
       "      <td>Pineapple rind, lemon pith and orange blossom ...</td>\n",
       "      <td>Reserve Late Harvest</td>\n",
       "      <td>87</td>\n",
       "      <td>13.0</td>\n",
       "      <td>Michigan</td>\n",
       "      <td>Lake Michigan Shore</td>\n",
       "      <td>NaN</td>\n",
       "      <td>Alexander Peartree</td>\n",
       "      <td>NaN</td>\n",
       "      <td>St. Julian 2013 Reserve Late Harvest Riesling ...</td>\n",
       "      <td>Riesling</td>\n",
       "      <td>St. Julian</td>\n",
       "    </tr>\n",
       "    <tr>\n",
       "      <td>4</td>\n",
       "      <td>4</td>\n",
       "      <td>US</td>\n",
       "      <td>Much like the regular bottling from 2012, this...</td>\n",
       "      <td>Vintner's Reserve Wild Child Block</td>\n",
       "      <td>87</td>\n",
       "      <td>65.0</td>\n",
       "      <td>Oregon</td>\n",
       "      <td>Willamette Valley</td>\n",
       "      <td>Willamette Valley</td>\n",
       "      <td>Paul Gregutt</td>\n",
       "      <td>@paulgwine</td>\n",
       "      <td>Sweet Cheeks 2012 Vintner's Reserve Wild Child...</td>\n",
       "      <td>Pinot Noir</td>\n",
       "      <td>Sweet Cheeks</td>\n",
       "    </tr>\n",
       "  </tbody>\n",
       "</table>\n",
       "</div>"
      ],
      "text/plain": [
       "   Unnamed: 0   country                                        description  \\\n",
       "0           0     Italy  Aromas include tropical fruit, broom, brimston...   \n",
       "1           1  Portugal  This is ripe and fruity, a wine that is smooth...   \n",
       "2           2        US  Tart and snappy, the flavors of lime flesh and...   \n",
       "3           3        US  Pineapple rind, lemon pith and orange blossom ...   \n",
       "4           4        US  Much like the regular bottling from 2012, this...   \n",
       "\n",
       "                          designation  points  price           province  \\\n",
       "0                        Vulkà Bianco      87    NaN  Sicily & Sardinia   \n",
       "1                            Avidagos      87   15.0              Douro   \n",
       "2                                 NaN      87   14.0             Oregon   \n",
       "3                Reserve Late Harvest      87   13.0           Michigan   \n",
       "4  Vintner's Reserve Wild Child Block      87   65.0             Oregon   \n",
       "\n",
       "              region_1           region_2         taster_name  \\\n",
       "0                 Etna                NaN       Kerin O’Keefe   \n",
       "1                  NaN                NaN          Roger Voss   \n",
       "2    Willamette Valley  Willamette Valley        Paul Gregutt   \n",
       "3  Lake Michigan Shore                NaN  Alexander Peartree   \n",
       "4    Willamette Valley  Willamette Valley        Paul Gregutt   \n",
       "\n",
       "  taster_twitter_handle                                              title  \\\n",
       "0          @kerinokeefe                  Nicosia 2013 Vulkà Bianco  (Etna)   \n",
       "1            @vossroger      Quinta dos Avidagos 2011 Avidagos Red (Douro)   \n",
       "2           @paulgwine       Rainstorm 2013 Pinot Gris (Willamette Valley)   \n",
       "3                   NaN  St. Julian 2013 Reserve Late Harvest Riesling ...   \n",
       "4           @paulgwine   Sweet Cheeks 2012 Vintner's Reserve Wild Child...   \n",
       "\n",
       "          variety               winery  \n",
       "0     White Blend              Nicosia  \n",
       "1  Portuguese Red  Quinta dos Avidagos  \n",
       "2      Pinot Gris            Rainstorm  \n",
       "3        Riesling           St. Julian  \n",
       "4      Pinot Noir         Sweet Cheeks  "
      ]
     },
     "execution_count": 4,
     "metadata": {},
     "output_type": "execute_result"
    }
   ],
   "source": [
    "#Show the first 5 rows of the dataframe\n",
    "wine_reviews.head()"
   ]
  },
  {
   "cell_type": "code",
   "execution_count": 5,
   "metadata": {
    "scrolled": true
   },
   "outputs": [
    {
     "data": {
      "text/html": [
       "<div>\n",
       "<style scoped>\n",
       "    .dataframe tbody tr th:only-of-type {\n",
       "        vertical-align: middle;\n",
       "    }\n",
       "\n",
       "    .dataframe tbody tr th {\n",
       "        vertical-align: top;\n",
       "    }\n",
       "\n",
       "    .dataframe thead th {\n",
       "        text-align: right;\n",
       "    }\n",
       "</style>\n",
       "<table border=\"1\" class=\"dataframe\">\n",
       "  <thead>\n",
       "    <tr style=\"text-align: right;\">\n",
       "      <th></th>\n",
       "      <th>Unnamed: 0</th>\n",
       "      <th>country</th>\n",
       "      <th>description</th>\n",
       "      <th>designation</th>\n",
       "      <th>points</th>\n",
       "      <th>price</th>\n",
       "      <th>province</th>\n",
       "      <th>region_1</th>\n",
       "      <th>region_2</th>\n",
       "      <th>taster_name</th>\n",
       "      <th>taster_twitter_handle</th>\n",
       "      <th>title</th>\n",
       "      <th>variety</th>\n",
       "      <th>winery</th>\n",
       "    </tr>\n",
       "  </thead>\n",
       "  <tbody>\n",
       "    <tr>\n",
       "      <td>129969</td>\n",
       "      <td>129969</td>\n",
       "      <td>France</td>\n",
       "      <td>A dry style of Pinot Gris, this is crisp with ...</td>\n",
       "      <td>NaN</td>\n",
       "      <td>90</td>\n",
       "      <td>32.0</td>\n",
       "      <td>Alsace</td>\n",
       "      <td>Alsace</td>\n",
       "      <td>NaN</td>\n",
       "      <td>Roger Voss</td>\n",
       "      <td>@vossroger</td>\n",
       "      <td>Domaine Marcel Deiss 2012 Pinot Gris (Alsace)</td>\n",
       "      <td>Pinot Gris</td>\n",
       "      <td>Domaine Marcel Deiss</td>\n",
       "    </tr>\n",
       "    <tr>\n",
       "      <td>129970</td>\n",
       "      <td>129970</td>\n",
       "      <td>France</td>\n",
       "      <td>Big, rich and off-dry, this is powered by inte...</td>\n",
       "      <td>Lieu-dit Harth Cuvée Caroline</td>\n",
       "      <td>90</td>\n",
       "      <td>21.0</td>\n",
       "      <td>Alsace</td>\n",
       "      <td>Alsace</td>\n",
       "      <td>NaN</td>\n",
       "      <td>Roger Voss</td>\n",
       "      <td>@vossroger</td>\n",
       "      <td>Domaine Schoffit 2012 Lieu-dit Harth Cuvée Car...</td>\n",
       "      <td>Gewürztraminer</td>\n",
       "      <td>Domaine Schoffit</td>\n",
       "    </tr>\n",
       "  </tbody>\n",
       "</table>\n",
       "</div>"
      ],
      "text/plain": [
       "        Unnamed: 0 country                                        description  \\\n",
       "129969      129969  France  A dry style of Pinot Gris, this is crisp with ...   \n",
       "129970      129970  France  Big, rich and off-dry, this is powered by inte...   \n",
       "\n",
       "                          designation  points  price province region_1  \\\n",
       "129969                            NaN      90   32.0   Alsace   Alsace   \n",
       "129970  Lieu-dit Harth Cuvée Caroline      90   21.0   Alsace   Alsace   \n",
       "\n",
       "       region_2 taster_name taster_twitter_handle  \\\n",
       "129969      NaN  Roger Voss            @vossroger   \n",
       "129970      NaN  Roger Voss            @vossroger   \n",
       "\n",
       "                                                    title         variety  \\\n",
       "129969      Domaine Marcel Deiss 2012 Pinot Gris (Alsace)      Pinot Gris   \n",
       "129970  Domaine Schoffit 2012 Lieu-dit Harth Cuvée Car...  Gewürztraminer   \n",
       "\n",
       "                      winery  \n",
       "129969  Domaine Marcel Deiss  \n",
       "129970      Domaine Schoffit  "
      ]
     },
     "execution_count": 5,
     "metadata": {},
     "output_type": "execute_result"
    }
   ],
   "source": [
    "#checking the last two rows\n",
    "wine_reviews.iloc[-2:]"
   ]
  },
  {
   "cell_type": "markdown",
   "metadata": {},
   "source": [
    "\n",
    "From a brief overview of our data we can start by taking some steps in dropping columns that do not interest us and duplicated rows. For this exercice we decided to drop the columns of designation, region1, region2 as well as the twitter handle of the reviewer. The exta column unmnamed:0 is also dropped as this is replaced by the index.\n"
   ]
  },
  {
   "cell_type": "code",
   "execution_count": 6,
   "metadata": {},
   "outputs": [],
   "source": [
    "#drop columns designation, region1, region2 and taster twitter details.\n",
    "wine_df = wine_reviews.drop(columns=['designation','region_1', 'region_2', 'taster_twitter_handle', 'winery','Unnamed: 0' ])"
   ]
  },
  {
   "cell_type": "code",
   "execution_count": 7,
   "metadata": {},
   "outputs": [
    {
     "data": {
      "text/plain": [
       "(129971, 8)"
      ]
     },
     "execution_count": 7,
     "metadata": {},
     "output_type": "execute_result"
    }
   ],
   "source": [
    "wine_df.shape"
   ]
  },
  {
   "cell_type": "code",
   "execution_count": 8,
   "metadata": {},
   "outputs": [],
   "source": [
    "#drop duplicate description\n",
    "wine_df = wine_df.drop_duplicates('description')"
   ]
  },
  {
   "cell_type": "code",
   "execution_count": 9,
   "metadata": {},
   "outputs": [
    {
     "data": {
      "text/plain": [
       "(119955, 8)"
      ]
     },
     "execution_count": 9,
     "metadata": {},
     "output_type": "execute_result"
    }
   ],
   "source": [
    "wine_df.shape"
   ]
  },
  {
   "cell_type": "code",
   "execution_count": 10,
   "metadata": {},
   "outputs": [
    {
     "data": {
      "text/plain": [
       "(111567, 8)"
      ]
     },
     "execution_count": 10,
     "metadata": {},
     "output_type": "execute_result"
    }
   ],
   "source": [
    "#drop rows with NaN price, points and description\n",
    "wine_df = wine_df.dropna(subset=['price', 'points', 'description'])\n",
    "wine_df.shape"
   ]
  },
  {
   "cell_type": "code",
   "execution_count": 11,
   "metadata": {},
   "outputs": [
    {
     "name": "stdout",
     "output_type": "stream",
     "text": [
      "taster_name\n",
      "Roger Voss            18543\n",
      "Michael Schachner     13870\n",
      "Kerin O’Keefe          8872\n",
      "Paul Gregutt           8837\n",
      "Virginie Boone         8681\n",
      "Matt Kettmann          5642\n",
      "Joe Czerwinski         4643\n",
      "Sean P. Sullivan       4422\n",
      "Anna Lee C. Iijima     3974\n",
      "Jim Gordon             3761\n",
      "Anne Krebiehl MW       3035\n",
      "Lauren Buzzeo          1582\n",
      "Susan Kostrzewa        1010\n",
      "Mike DeSimone           452\n",
      "Jeff Jenssen            436\n",
      "Alexander Peartree      381\n",
      "Carrie Dykes            128\n",
      "Fiona Adams              24\n",
      "Christina Pickard         6\n",
      "Name: description, dtype: int64\n"
     ]
    }
   ],
   "source": [
    "print(wine_df['description'].groupby(wine_df['taster_name']).count().sort_values(ascending = False))"
   ]
  },
  {
   "cell_type": "code",
   "execution_count": 12,
   "metadata": {},
   "outputs": [
    {
     "name": "stdout",
     "output_type": "stream",
     "text": [
      "country\n",
      "US                        50229\n",
      "France                    16286\n",
      "Italy                     15492\n",
      "Spain                      6049\n",
      "Portugal                   4502\n",
      "Chile                      4130\n",
      "Argentina                  3500\n",
      "Austria                    2535\n",
      "Australia                  2169\n",
      "Germany                    1951\n",
      "New Zealand                1240\n",
      "South Africa               1195\n",
      "Israel                      453\n",
      "Greece                      426\n",
      "Canada                      224\n",
      "Bulgaria                    132\n",
      "Hungary                     128\n",
      "Romania                     102\n",
      "Uruguay                      98\n",
      "Turkey                       81\n",
      "Georgia                      74\n",
      "Slovenia                     70\n",
      "Croatia                      68\n",
      "Mexico                       68\n",
      "England                      59\n",
      "Moldova                      56\n",
      "Brazil                       44\n",
      "Lebanon                      32\n",
      "Morocco                      24\n",
      "Peru                         16\n",
      "Ukraine                      14\n",
      "Czech Republic               11\n",
      "Macedonia                    11\n",
      "Cyprus                       10\n",
      "Serbia                        8\n",
      "India                         8\n",
      "Switzerland                   6\n",
      "Luxembourg                    5\n",
      "Bosnia and Herzegovina        2\n",
      "Armenia                       2\n",
      "China                         1\n",
      "Slovakia                      1\n",
      "Name: description, dtype: int64\n"
     ]
    }
   ],
   "source": [
    "print(wine_df['description'].groupby(wine_df['country']).count().sort_values(ascending = False))"
   ]
  },
  {
   "cell_type": "code",
   "execution_count": 13,
   "metadata": {},
   "outputs": [
    {
     "data": {
      "text/plain": [
       "(697, 2)"
      ]
     },
     "execution_count": 13,
     "metadata": {},
     "output_type": "execute_result"
    }
   ],
   "source": [
    "# how many varieties\n",
    "varieties = wine_df.variety.value_counts()\n",
    "varieties = varieties.to_frame('count').reset_index()\n",
    "varieties.columns = ['variety', 'reviews']\n",
    "varieties.shape\n"
   ]
  },
  {
   "cell_type": "code",
   "execution_count": 14,
   "metadata": {},
   "outputs": [
    {
     "name": "stdout",
     "output_type": "stream",
     "text": [
      "Pinot Noir                       11834\n",
      "Chardonnay                       10237\n",
      "Cabernet Sauvignon                8760\n",
      "Red Blend                         7805\n",
      "Bordeaux-style Red Blend          4958\n",
      "Riesling                          4572\n",
      "Sauvignon Blanc                   4402\n",
      "Syrah                             3776\n",
      "Rosé                              2951\n",
      "Merlot                            2855\n",
      "Zinfandel                         2524\n",
      "Malbec                            2391\n",
      "Sangiovese                        2161\n",
      "Nebbiolo                          2155\n",
      "Portuguese Red                    2028\n",
      "White Blend                       2004\n",
      "Sparkling Blend                   1849\n",
      "Tempranillo                       1651\n",
      "Rhône-style Red Blend             1283\n",
      "Pinot Gris                        1268\n",
      "Cabernet Franc                    1196\n",
      "Champagne Blend                   1134\n",
      "Grüner Veltliner                  1018\n",
      "Pinot Grigio                       934\n",
      "Viognier                           911\n",
      "Portuguese White                   905\n",
      "Gewürztraminer                     886\n",
      "Shiraz                             776\n",
      "Gamay                              749\n",
      "Petite Sirah                       701\n",
      "Bordeaux-style White Blend         635\n",
      "Grenache                           604\n",
      "Glera                              552\n",
      "Tempranillo Blend                  548\n",
      "Sangiovese Grosso                  545\n",
      "Barbera                            545\n",
      "Carmenère                          525\n",
      "Chenin Blanc                       492\n",
      "Port                               467\n",
      "Corvina, Rondinella, Molinara      456\n",
      "Albariño                           432\n",
      "Rhône-style White Blend            388\n",
      "Pinot Blanc                        345\n",
      "Garnacha                           307\n",
      "Moscato                            302\n",
      "Nero d'Avola                       289\n",
      "Aglianico                          274\n",
      "Sauvignon                          268\n",
      "Verdejo                            264\n",
      "Petit Verdot                       250\n",
      "Meritage                           239\n",
      "Torrontés                          231\n",
      "Melon                              220\n",
      "Mourvèdre                          208\n",
      "Garganega                          201\n",
      "Prosecco                           195\n",
      "Primitivo                          193\n",
      "Blaufränkisch                      190\n",
      "Montepulciano                      186\n",
      "Vermentino                         185\n",
      "Name: variety, dtype: int64\n"
     ]
    }
   ],
   "source": [
    "#Of the 697 grape varieties represented in this dataset 60 have 90% of all reviews. So we will drop varieties with less than 185 reviews.\n",
    "print(wine_df.variety.value_counts().head(60))"
   ]
  },
  {
   "cell_type": "code",
   "execution_count": 15,
   "metadata": {},
   "outputs": [
    {
     "data": {
      "text/html": [
       "<div>\n",
       "<style scoped>\n",
       "    .dataframe tbody tr th:only-of-type {\n",
       "        vertical-align: middle;\n",
       "    }\n",
       "\n",
       "    .dataframe tbody tr th {\n",
       "        vertical-align: top;\n",
       "    }\n",
       "\n",
       "    .dataframe thead th {\n",
       "        text-align: right;\n",
       "    }\n",
       "</style>\n",
       "<table border=\"1\" class=\"dataframe\">\n",
       "  <thead>\n",
       "    <tr style=\"text-align: right;\">\n",
       "      <th></th>\n",
       "      <th>country</th>\n",
       "      <th>description</th>\n",
       "      <th>points</th>\n",
       "      <th>price</th>\n",
       "      <th>province</th>\n",
       "      <th>taster_name</th>\n",
       "      <th>title</th>\n",
       "      <th>variety</th>\n",
       "      <th>reviews</th>\n",
       "    </tr>\n",
       "  </thead>\n",
       "  <tbody>\n",
       "    <tr>\n",
       "      <td>0</td>\n",
       "      <td>Portugal</td>\n",
       "      <td>This is ripe and fruity, a wine that is smooth...</td>\n",
       "      <td>87</td>\n",
       "      <td>15.0</td>\n",
       "      <td>Douro</td>\n",
       "      <td>Roger Voss</td>\n",
       "      <td>Quinta dos Avidagos 2011 Avidagos Red (Douro)</td>\n",
       "      <td>Portuguese Red</td>\n",
       "      <td>2028.0</td>\n",
       "    </tr>\n",
       "    <tr>\n",
       "      <td>1</td>\n",
       "      <td>US</td>\n",
       "      <td>Tart and snappy, the flavors of lime flesh and...</td>\n",
       "      <td>87</td>\n",
       "      <td>14.0</td>\n",
       "      <td>Oregon</td>\n",
       "      <td>Paul Gregutt</td>\n",
       "      <td>Rainstorm 2013 Pinot Gris (Willamette Valley)</td>\n",
       "      <td>Pinot Gris</td>\n",
       "      <td>1268.0</td>\n",
       "    </tr>\n",
       "    <tr>\n",
       "      <td>2</td>\n",
       "      <td>US</td>\n",
       "      <td>Pineapple rind, lemon pith and orange blossom ...</td>\n",
       "      <td>87</td>\n",
       "      <td>13.0</td>\n",
       "      <td>Michigan</td>\n",
       "      <td>Alexander Peartree</td>\n",
       "      <td>St. Julian 2013 Reserve Late Harvest Riesling ...</td>\n",
       "      <td>Riesling</td>\n",
       "      <td>4572.0</td>\n",
       "    </tr>\n",
       "    <tr>\n",
       "      <td>3</td>\n",
       "      <td>US</td>\n",
       "      <td>Much like the regular bottling from 2012, this...</td>\n",
       "      <td>87</td>\n",
       "      <td>65.0</td>\n",
       "      <td>Oregon</td>\n",
       "      <td>Paul Gregutt</td>\n",
       "      <td>Sweet Cheeks 2012 Vintner's Reserve Wild Child...</td>\n",
       "      <td>Pinot Noir</td>\n",
       "      <td>11834.0</td>\n",
       "    </tr>\n",
       "    <tr>\n",
       "      <td>6</td>\n",
       "      <td>France</td>\n",
       "      <td>This dry and restrained wine offers spice in p...</td>\n",
       "      <td>87</td>\n",
       "      <td>24.0</td>\n",
       "      <td>Alsace</td>\n",
       "      <td>Roger Voss</td>\n",
       "      <td>Trimbach 2012 Gewurztraminer (Alsace)</td>\n",
       "      <td>Gewürztraminer</td>\n",
       "      <td>886.0</td>\n",
       "    </tr>\n",
       "    <tr>\n",
       "      <td>7</td>\n",
       "      <td>Germany</td>\n",
       "      <td>Savory dried thyme notes accent sunnier flavor...</td>\n",
       "      <td>87</td>\n",
       "      <td>12.0</td>\n",
       "      <td>Rheinhessen</td>\n",
       "      <td>Anna Lee C. Iijima</td>\n",
       "      <td>Heinz Eifel 2013 Shine Gewürztraminer (Rheinhe...</td>\n",
       "      <td>Gewürztraminer</td>\n",
       "      <td>886.0</td>\n",
       "    </tr>\n",
       "    <tr>\n",
       "      <td>8</td>\n",
       "      <td>France</td>\n",
       "      <td>This has great depth of flavor with its fresh ...</td>\n",
       "      <td>87</td>\n",
       "      <td>27.0</td>\n",
       "      <td>Alsace</td>\n",
       "      <td>Roger Voss</td>\n",
       "      <td>Jean-Baptiste Adam 2012 Les Natures Pinot Gris...</td>\n",
       "      <td>Pinot Gris</td>\n",
       "      <td>1268.0</td>\n",
       "    </tr>\n",
       "    <tr>\n",
       "      <td>9</td>\n",
       "      <td>US</td>\n",
       "      <td>Soft, supple plum envelopes an oaky structure ...</td>\n",
       "      <td>87</td>\n",
       "      <td>19.0</td>\n",
       "      <td>California</td>\n",
       "      <td>Virginie Boone</td>\n",
       "      <td>Kirkland Signature 2011 Mountain Cuvée Caberne...</td>\n",
       "      <td>Cabernet Sauvignon</td>\n",
       "      <td>8760.0</td>\n",
       "    </tr>\n",
       "    <tr>\n",
       "      <td>10</td>\n",
       "      <td>France</td>\n",
       "      <td>This is a dry wine, very spicy, with a tight, ...</td>\n",
       "      <td>87</td>\n",
       "      <td>30.0</td>\n",
       "      <td>Alsace</td>\n",
       "      <td>Roger Voss</td>\n",
       "      <td>Leon Beyer 2012 Gewurztraminer (Alsace)</td>\n",
       "      <td>Gewürztraminer</td>\n",
       "      <td>886.0</td>\n",
       "    </tr>\n",
       "    <tr>\n",
       "      <td>11</td>\n",
       "      <td>US</td>\n",
       "      <td>Slightly reduced, this wine offers a chalky, t...</td>\n",
       "      <td>87</td>\n",
       "      <td>34.0</td>\n",
       "      <td>California</td>\n",
       "      <td>Virginie Boone</td>\n",
       "      <td>Louis M. Martini 2012 Cabernet Sauvignon (Alex...</td>\n",
       "      <td>Cabernet Sauvignon</td>\n",
       "      <td>8760.0</td>\n",
       "    </tr>\n",
       "  </tbody>\n",
       "</table>\n",
       "</div>"
      ],
      "text/plain": [
       "     country                                        description  points  \\\n",
       "0   Portugal  This is ripe and fruity, a wine that is smooth...      87   \n",
       "1         US  Tart and snappy, the flavors of lime flesh and...      87   \n",
       "2         US  Pineapple rind, lemon pith and orange blossom ...      87   \n",
       "3         US  Much like the regular bottling from 2012, this...      87   \n",
       "6     France  This dry and restrained wine offers spice in p...      87   \n",
       "7    Germany  Savory dried thyme notes accent sunnier flavor...      87   \n",
       "8     France  This has great depth of flavor with its fresh ...      87   \n",
       "9         US  Soft, supple plum envelopes an oaky structure ...      87   \n",
       "10    France  This is a dry wine, very spicy, with a tight, ...      87   \n",
       "11        US  Slightly reduced, this wine offers a chalky, t...      87   \n",
       "\n",
       "    price     province         taster_name  \\\n",
       "0    15.0        Douro          Roger Voss   \n",
       "1    14.0       Oregon        Paul Gregutt   \n",
       "2    13.0     Michigan  Alexander Peartree   \n",
       "3    65.0       Oregon        Paul Gregutt   \n",
       "6    24.0       Alsace          Roger Voss   \n",
       "7    12.0  Rheinhessen  Anna Lee C. Iijima   \n",
       "8    27.0       Alsace          Roger Voss   \n",
       "9    19.0   California      Virginie Boone   \n",
       "10   30.0       Alsace          Roger Voss   \n",
       "11   34.0   California      Virginie Boone   \n",
       "\n",
       "                                                title             variety  \\\n",
       "0       Quinta dos Avidagos 2011 Avidagos Red (Douro)      Portuguese Red   \n",
       "1       Rainstorm 2013 Pinot Gris (Willamette Valley)          Pinot Gris   \n",
       "2   St. Julian 2013 Reserve Late Harvest Riesling ...            Riesling   \n",
       "3   Sweet Cheeks 2012 Vintner's Reserve Wild Child...          Pinot Noir   \n",
       "6               Trimbach 2012 Gewurztraminer (Alsace)      Gewürztraminer   \n",
       "7   Heinz Eifel 2013 Shine Gewürztraminer (Rheinhe...      Gewürztraminer   \n",
       "8   Jean-Baptiste Adam 2012 Les Natures Pinot Gris...          Pinot Gris   \n",
       "9   Kirkland Signature 2011 Mountain Cuvée Caberne...  Cabernet Sauvignon   \n",
       "10            Leon Beyer 2012 Gewurztraminer (Alsace)      Gewürztraminer   \n",
       "11  Louis M. Martini 2012 Cabernet Sauvignon (Alex...  Cabernet Sauvignon   \n",
       "\n",
       "    reviews  \n",
       "0    2028.0  \n",
       "1    1268.0  \n",
       "2    4572.0  \n",
       "3   11834.0  \n",
       "6     886.0  \n",
       "7     886.0  \n",
       "8    1268.0  \n",
       "9    8760.0  \n",
       "10    886.0  \n",
       "11   8760.0  "
      ]
     },
     "execution_count": 15,
     "metadata": {},
     "output_type": "execute_result"
    }
   ],
   "source": [
    "wines1 = wine_df.merge(varieties, on=\"variety\", how='left')\n",
    "wines = wines1[wines1['reviews'] >= 185]\n",
    "wines.head(10)"
   ]
  },
  {
   "cell_type": "code",
   "execution_count": 16,
   "metadata": {},
   "outputs": [
    {
     "data": {
      "text/plain": [
       "60"
      ]
     },
     "execution_count": 16,
     "metadata": {},
     "output_type": "execute_result"
    }
   ],
   "source": [
    "# double check we have all unique 60 varieties\n",
    "wines.variety.nunique()"
   ]
  },
  {
   "cell_type": "markdown",
   "metadata": {},
   "source": [
    "### Part 2: Exploratory Data Analysis & Visualization "
   ]
  },
  {
   "cell_type": "code",
   "execution_count": 17,
   "metadata": {},
   "outputs": [],
   "source": [
    "import seaborn as sns\n",
    "import matplotlib.pyplot as plt"
   ]
  },
  {
   "cell_type": "code",
   "execution_count": 18,
   "metadata": {},
   "outputs": [
    {
     "data": {
      "text/plain": [
       "<matplotlib.axes._subplots.AxesSubplot at 0x13a5451dc88>"
      ]
     },
     "execution_count": 18,
     "metadata": {},
     "output_type": "execute_result"
    },
    {
     "data": {
      "image/png": "[encoded data removed]",
      "text/plain": [
       "<Figure size 432x288 with 1 Axes>"
      ]
     },
     "metadata": {
      "needs_background": "light"
     },
     "output_type": "display_data"
    }
   ],
   "source": [
    "wines['variety'].value_counts().head(20).plot.bar()\n"
   ]
  },
  {
   "cell_type": "code",
   "execution_count": 19,
   "metadata": {},
   "outputs": [
    {
     "data": {
      "text/plain": [
       "<matplotlib.axes._subplots.AxesSubplot at 0x13a55009448>"
      ]
     },
     "execution_count": 19,
     "metadata": {},
     "output_type": "execute_result"
    },
    {
     "data": {
      "image/png": "[encoded data removed]",
      "text/plain": [
       "<Figure size 432x288 with 1 Axes>"
      ]
     },
     "metadata": {
      "needs_background": "light"
     },
     "output_type": "display_data"
    }
   ],
   "source": [
    "wines['country'].value_counts().head(20).plot.bar()"
   ]
  },
  {
   "cell_type": "code",
   "execution_count": 20,
   "metadata": {},
   "outputs": [
    {
     "data": {
      "text/plain": [
       "<matplotlib.axes._subplots.AxesSubplot at 0x13a550d53c8>"
      ]
     },
     "execution_count": 20,
     "metadata": {},
     "output_type": "execute_result"
    },
    {
     "data": {
      "image/png": "[encoded data removed]",
      "text/plain": [
       "<Figure size 432x288 with 1 Axes>"
      ]
     },
     "metadata": {
      "needs_background": "light"
     },
     "output_type": "display_data"
    }
   ],
   "source": [
    "# Score distrubution (Every wine gets a score between 80 and 100)\n",
    "sns.countplot(wines['points'])"
   ]
  },
  {
   "cell_type": "code",
   "execution_count": 21,
   "metadata": {},
   "outputs": [
    {
     "data": {
      "text/plain": [
       "<matplotlib.axes._subplots.AxesSubplot at 0x13a551b79c8>"
      ]
     },
     "execution_count": 21,
     "metadata": {},
     "output_type": "execute_result"
    },
    {
     "data": {
      "image/png": "[encoded data removed]",
      "text/plain": [
       "<Figure size 432x288 with 2 Axes>"
      ]
     },
     "metadata": {
      "needs_background": "light"
     },
     "output_type": "display_data"
    }
   ],
   "source": [
    "# Hexplot\n",
    "import matplotlib.pyplot as plt\n",
    "import numpy as np \n",
    "import seaborn as sns \n",
    "from scipy.stats import kurtosis, skew \n",
    "from scipy import stats\n",
    "wines[wines['price'] < 100].plot.hexbin(x=\"price\", y=\"points\", gridsize=20)"
   ]
  },
  {
   "cell_type": "code",
   "execution_count": 22,
   "metadata": {},
   "outputs": [],
   "source": [
    "#!pip install plotnine\n",
    "from plotnine import *"
   ]
  },
  {
   "cell_type": "code",
   "execution_count": 23,
   "metadata": {},
   "outputs": [
    {
     "data": {
      "image/png": "[encoded data removed]",
      "text/plain": [
       "<Figure size 360x360 with 1 Axes>"
      ]
     },
     "metadata": {
      "needs_background": "light"
     },
     "output_type": "display_data"
    }
   ],
   "source": [
    "prices_by_variety = wines[[\"price\", \"variety\"]].dropna()\n",
    "ratings_by_price = wines[[\"price\", \"points\"]]\n",
    "\n",
    "# Remove all data greater than the 98th percentile\n",
    "val = prices_by_variety[\"price\"].quantile(0.98)\n",
    "ratings_by_price = ratings_by_price[ratings_by_price[\"price\"] < val]\n",
    "\n",
    "ax = sns.lmplot(x = \"price\", y = \"points\", data = ratings_by_price)\n",
    "\n",
    "\n",
    "ax.set(xlabel = \"Price (USD)\", ylabel = \"Rating\")\n",
    "\n",
    "plt.show()"
   ]
  },
  {
   "cell_type": "code",
   "execution_count": 24,
   "metadata": {},
   "outputs": [],
   "source": [
    "# Is there a relationship between wine price and variety?\n",
    "wines_per_variety = wines[wines['variety'].isin(wines['variety'].value_counts().head(5).index)].dropna()\n",
    "# Remove all data greater than the 98th percentile\n",
    "val = wines_per_variety[\"price\"].quantile(0.98)\n",
    "wines_per_variety = wines_per_variety[wines_per_variety[\"price\"] < val]"
   ]
  },
  {
   "cell_type": "code",
   "execution_count": 25,
   "metadata": {},
   "outputs": [
    {
     "data": {
      "image/png": "[encoded data removed]",
      "text/plain": [
       "<Figure size 640x480 with 5 Axes>"
      ]
     },
     "metadata": {},
     "output_type": "display_data"
    },
    {
     "data": {
      "text/plain": [
       "<ggplot: (-9223371952470468436)>"
      ]
     },
     "execution_count": 25,
     "metadata": {},
     "output_type": "execute_result"
    }
   ],
   "source": [
    "# Remove all data greater than the 98th percentile\n",
    "val = prices_by_variety[\"price\"].quantile(0.98)\n",
    "ratings_by_price = ratings_by_price[ratings_by_price[\"price\"] < val]\n",
    "\n",
    "(ggplot(wines_per_variety)\n",
    "     + aes('points', 'price')\n",
    "     + aes(color='points')\n",
    "     + geom_point()\n",
    "     + stat_smooth()\n",
    "     + facet_wrap('~variety')\n",
    ")\n"
   ]
  },
  {
   "cell_type": "markdown",
   "metadata": {},
   "source": [
    "### Part 3 : Predicting Wine Variety from Text Reviews (1 feature)\n"
   ]
  },
  {
   "cell_type": "code",
   "execution_count": 26,
   "metadata": {},
   "outputs": [],
   "source": [
    "#At this point we can choose which and how many features we like to go with. \n",
    "#We will start by only using the description\n",
    "\n",
    "#Let's start with TfidfVectorizer with no text pre-processing\n",
    "from sklearn.feature_extraction.text import CountVectorizer, TfidfVectorizer\n",
    "from sklearn.model_selection import train_test_split\n",
    "from sklearn.ensemble import RandomForestClassifier\n",
    "from sklearn.metrics import confusion_matrix, classification_report\n"
   ]
  },
  {
   "cell_type": "code",
   "execution_count": 27,
   "metadata": {},
   "outputs": [],
   "source": [
    "wines = wines.dropna()"
   ]
  },
  {
   "cell_type": "code",
   "execution_count": 28,
   "metadata": {},
   "outputs": [],
   "source": [
    "#Below are a set of libraries that can be used, we recommend to only install spacy for now\n",
    "#!pip install nltk\n",
    "#!pip install spacy\n",
    "#!python -m spacy download en\n",
    "#!pip install wordcloud\n",
    "import spacy\n",
    "import string\n",
    "from spacy.lang.en.stop_words import STOP_WORDS\n",
    "from spacy.lang.en import English"
   ]
  },
  {
   "cell_type": "code",
   "execution_count": 29,
   "metadata": {},
   "outputs": [],
   "source": [
    "# Create our list of punctuation marks\n",
    "punctuations = string.punctuation\n",
    "\n",
    "# Create our list of stopwords\n",
    "nlp = spacy.load('en')\n",
    "stop_words = spacy.lang.en.stop_words.STOP_WORDS\n",
    "\n",
    "# Load English tokenizer, tagger, parser, NER and word vectors\n",
    "parser = English()"
   ]
  },
  {
   "cell_type": "code",
   "execution_count": 30,
   "metadata": {},
   "outputs": [],
   "source": [
    "# We will update the stop words that we want to be removed from the review description. These include any ferenece to the grape variety we are trying to predict and also colour reference.\n",
    "# We check also for both lower and upper case sentences.\n",
    "grape_variety = wines.variety.unique().tolist()\n",
    "grape_variety_lc = [x.lower() for x in grape_variety]\n",
    "grape_variety_broken = [i.replace('-', ' ').replace(',', ' ').split(' ') for i in grape_variety_lc]\n",
    "grape_variety_broken = [item for sublist in grape_variety_broken for item in sublist]\n",
    "grape_variety_broken.remove('red')\n",
    "grape_variety_broken.remove('white')"
   ]
  },
  {
   "cell_type": "code",
   "execution_count": 31,
   "metadata": {},
   "outputs": [
    {
     "data": {
      "text/plain": [
       "{\"'d\",\n",
       " \"'ll\",\n",
       " \"'m\",\n",
       " \"'re\",\n",
       " \"'s\",\n",
       " \"'ve\",\n",
       " 'Aglianico',\n",
       " 'Albariño',\n",
       " 'Barbera',\n",
       " 'Blaufränkisch',\n",
       " 'Bordeaux-style Red Blend',\n",
       " 'Bordeaux-style White Blend',\n",
       " 'Cabernet Franc',\n",
       " 'Cabernet Sauvignon',\n",
       " 'Carmenère',\n",
       " 'Champagne Blend',\n",
       " 'Chardonnay',\n",
       " 'Chenin Blanc',\n",
       " 'Gamay',\n",
       " 'Garganega',\n",
       " 'Garnacha',\n",
       " 'Gewürztraminer',\n",
       " 'Glera',\n",
       " 'Grenache',\n",
       " 'Grüner Veltliner',\n",
       " 'Malbec',\n",
       " 'Melon',\n",
       " 'Meritage',\n",
       " 'Merlot',\n",
       " 'Montepulciano',\n",
       " 'Moscato',\n",
       " 'Mourvèdre',\n",
       " 'Nebbiolo',\n",
       " \"Nero d'Avola\",\n",
       " 'Petit Verdot',\n",
       " 'Petite Sirah',\n",
       " 'Pinot Blanc',\n",
       " 'Pinot Grigio',\n",
       " 'Pinot Gris',\n",
       " 'Pinot Noir',\n",
       " 'Port',\n",
       " 'Portuguese Red',\n",
       " 'Portuguese White',\n",
       " 'Primitivo',\n",
       " 'Prosecco',\n",
       " 'Red Blend',\n",
       " 'Rhône-style Red Blend',\n",
       " 'Rhône-style White Blend',\n",
       " 'Riesling',\n",
       " 'Rosé',\n",
       " 'Sangiovese',\n",
       " 'Sangiovese Grosso',\n",
       " 'Sauvignon',\n",
       " 'Sauvignon Blanc',\n",
       " 'Shiraz',\n",
       " 'Sparkling Blend',\n",
       " 'Syrah',\n",
       " 'Tempranillo',\n",
       " 'Tempranillo Blend',\n",
       " 'Torrontés',\n",
       " 'Verdejo',\n",
       " 'Vermentino',\n",
       " 'Viognier',\n",
       " 'White Blend',\n",
       " 'Zinfandel',\n",
       " 'a',\n",
       " 'about',\n",
       " 'above',\n",
       " 'across',\n",
       " 'after',\n",
       " 'afterwards',\n",
       " 'again',\n",
       " 'against',\n",
       " 'aglianico',\n",
       " 'albariño',\n",
       " 'all',\n",
       " 'almost',\n",
       " 'alone',\n",
       " 'along',\n",
       " 'already',\n",
       " 'also',\n",
       " 'although',\n",
       " 'always',\n",
       " 'am',\n",
       " 'among',\n",
       " 'amongst',\n",
       " 'amount',\n",
       " 'an',\n",
       " 'and',\n",
       " 'another',\n",
       " 'any',\n",
       " 'anyhow',\n",
       " 'anyone',\n",
       " 'anything',\n",
       " 'anyway',\n",
       " 'anywhere',\n",
       " 'are',\n",
       " 'around',\n",
       " 'as',\n",
       " 'at',\n",
       " 'back',\n",
       " 'barbera',\n",
       " 'be',\n",
       " 'became',\n",
       " 'because',\n",
       " 'become',\n",
       " 'becomes',\n",
       " 'becoming',\n",
       " 'been',\n",
       " 'before',\n",
       " 'beforehand',\n",
       " 'behind',\n",
       " 'being',\n",
       " 'below',\n",
       " 'beside',\n",
       " 'besides',\n",
       " 'between',\n",
       " 'beyond',\n",
       " 'blanc',\n",
       " 'blaufränkisch',\n",
       " 'blend',\n",
       " 'bordeaux',\n",
       " 'bordeaux-style red blend',\n",
       " 'bordeaux-style white blend',\n",
       " 'both',\n",
       " 'bottom',\n",
       " 'but',\n",
       " 'by',\n",
       " 'ca',\n",
       " 'cabernet',\n",
       " 'cabernet franc',\n",
       " 'cabernet sauvignon',\n",
       " 'call',\n",
       " 'can',\n",
       " 'cannot',\n",
       " 'carmenère',\n",
       " 'champagne',\n",
       " 'champagne blend',\n",
       " 'chardonnay',\n",
       " 'chenin',\n",
       " 'chenin blanc',\n",
       " 'could',\n",
       " \"d'avola\",\n",
       " 'did',\n",
       " 'do',\n",
       " 'does',\n",
       " 'doing',\n",
       " 'done',\n",
       " 'down',\n",
       " 'due',\n",
       " 'during',\n",
       " 'each',\n",
       " 'eight',\n",
       " 'either',\n",
       " 'eleven',\n",
       " 'else',\n",
       " 'elsewhere',\n",
       " 'empty',\n",
       " 'enough',\n",
       " 'even',\n",
       " 'ever',\n",
       " 'every',\n",
       " 'everyone',\n",
       " 'everything',\n",
       " 'everywhere',\n",
       " 'except',\n",
       " 'few',\n",
       " 'fifteen',\n",
       " 'fifty',\n",
       " 'first',\n",
       " 'five',\n",
       " 'for',\n",
       " 'former',\n",
       " 'formerly',\n",
       " 'forty',\n",
       " 'four',\n",
       " 'franc',\n",
       " 'from',\n",
       " 'front',\n",
       " 'full',\n",
       " 'further',\n",
       " 'gamay',\n",
       " 'garganega',\n",
       " 'garnacha',\n",
       " 'get',\n",
       " 'gewürztraminer',\n",
       " 'give',\n",
       " 'glera',\n",
       " 'go',\n",
       " 'grenache',\n",
       " 'grigio',\n",
       " 'gris',\n",
       " 'grosso',\n",
       " 'grüner',\n",
       " 'grüner veltliner',\n",
       " 'had',\n",
       " 'has',\n",
       " 'have',\n",
       " 'he',\n",
       " 'hence',\n",
       " 'her',\n",
       " 'here',\n",
       " 'hereafter',\n",
       " 'hereby',\n",
       " 'herein',\n",
       " 'hereupon',\n",
       " 'hers',\n",
       " 'herself',\n",
       " 'him',\n",
       " 'himself',\n",
       " 'his',\n",
       " 'how',\n",
       " 'however',\n",
       " 'hundred',\n",
       " 'i',\n",
       " 'if',\n",
       " 'in',\n",
       " 'indeed',\n",
       " 'into',\n",
       " 'is',\n",
       " 'it',\n",
       " 'its',\n",
       " 'itself',\n",
       " 'just',\n",
       " 'keep',\n",
       " 'last',\n",
       " 'latter',\n",
       " 'latterly',\n",
       " 'least',\n",
       " 'less',\n",
       " 'made',\n",
       " 'make',\n",
       " 'malbec',\n",
       " 'many',\n",
       " 'may',\n",
       " 'me',\n",
       " 'meanwhile',\n",
       " 'melon',\n",
       " 'meritage',\n",
       " 'merlot',\n",
       " 'might',\n",
       " 'mine',\n",
       " 'montepulciano',\n",
       " 'more',\n",
       " 'moreover',\n",
       " 'moscato',\n",
       " 'most',\n",
       " 'mostly',\n",
       " 'mourvèdre',\n",
       " 'move',\n",
       " 'much',\n",
       " 'must',\n",
       " 'my',\n",
       " 'myself',\n",
       " \"n't\",\n",
       " 'name',\n",
       " 'namely',\n",
       " 'nebbiolo',\n",
       " 'neither',\n",
       " 'nero',\n",
       " \"nero d'avola\",\n",
       " 'never',\n",
       " 'nevertheless',\n",
       " 'next',\n",
       " 'nine',\n",
       " 'no',\n",
       " 'nobody',\n",
       " 'noir',\n",
       " 'none',\n",
       " 'noone',\n",
       " 'nor',\n",
       " 'not',\n",
       " 'nothing',\n",
       " 'now',\n",
       " 'nowhere',\n",
       " 'n‘t',\n",
       " 'n’t',\n",
       " 'of',\n",
       " 'off',\n",
       " 'often',\n",
       " 'on',\n",
       " 'once',\n",
       " 'one',\n",
       " 'only',\n",
       " 'onto',\n",
       " 'or',\n",
       " 'other',\n",
       " 'others',\n",
       " 'otherwise',\n",
       " 'our',\n",
       " 'ours',\n",
       " 'ourselves',\n",
       " 'out',\n",
       " 'over',\n",
       " 'own',\n",
       " 'part',\n",
       " 'per',\n",
       " 'perhaps',\n",
       " 'petit',\n",
       " 'petit verdot',\n",
       " 'petite',\n",
       " 'petite sirah',\n",
       " 'pinot',\n",
       " 'pinot blanc',\n",
       " 'pinot grigio',\n",
       " 'pinot gris',\n",
       " 'pinot noir',\n",
       " 'please',\n",
       " 'port',\n",
       " 'portuguese',\n",
       " 'portuguese red',\n",
       " 'portuguese white',\n",
       " 'primitivo',\n",
       " 'prosecco',\n",
       " 'put',\n",
       " 'quite',\n",
       " 'rather',\n",
       " 're',\n",
       " 'really',\n",
       " 'red',\n",
       " 'red blend',\n",
       " 'regarding',\n",
       " 'rhône',\n",
       " 'rhône-style red blend',\n",
       " 'rhône-style white blend',\n",
       " 'riesling',\n",
       " 'rosé',\n",
       " 'same',\n",
       " 'sangiovese',\n",
       " 'sangiovese grosso',\n",
       " 'sauvignon',\n",
       " 'sauvignon blanc',\n",
       " 'say',\n",
       " 'see',\n",
       " 'seem',\n",
       " 'seemed',\n",
       " 'seeming',\n",
       " 'seems',\n",
       " 'serious',\n",
       " 'several',\n",
       " 'she',\n",
       " 'shiraz',\n",
       " 'should',\n",
       " 'show',\n",
       " 'side',\n",
       " 'since',\n",
       " 'sirah',\n",
       " 'six',\n",
       " 'sixty',\n",
       " 'so',\n",
       " 'some',\n",
       " 'somehow',\n",
       " 'someone',\n",
       " 'something',\n",
       " 'sometime',\n",
       " 'sometimes',\n",
       " 'somewhere',\n",
       " 'sparkling',\n",
       " 'sparkling blend',\n",
       " 'still',\n",
       " 'style',\n",
       " 'such',\n",
       " 'syrah',\n",
       " 'take',\n",
       " 'tempranillo',\n",
       " 'tempranillo blend',\n",
       " 'ten',\n",
       " 'than',\n",
       " 'that',\n",
       " 'the',\n",
       " 'their',\n",
       " 'them',\n",
       " 'themselves',\n",
       " 'then',\n",
       " 'thence',\n",
       " 'there',\n",
       " 'thereafter',\n",
       " 'thereby',\n",
       " 'therefore',\n",
       " 'therein',\n",
       " 'thereupon',\n",
       " 'these',\n",
       " 'they',\n",
       " 'third',\n",
       " 'this',\n",
       " 'those',\n",
       " 'though',\n",
       " 'three',\n",
       " 'through',\n",
       " 'throughout',\n",
       " 'thru',\n",
       " 'thus',\n",
       " 'to',\n",
       " 'together',\n",
       " 'too',\n",
       " 'top',\n",
       " 'torrontés',\n",
       " 'toward',\n",
       " 'towards',\n",
       " 'twelve',\n",
       " 'twenty',\n",
       " 'two',\n",
       " 'under',\n",
       " 'unless',\n",
       " 'until',\n",
       " 'up',\n",
       " 'upon',\n",
       " 'us',\n",
       " 'used',\n",
       " 'using',\n",
       " 'various',\n",
       " 'veltliner',\n",
       " 'verdejo',\n",
       " 'verdot',\n",
       " 'vermentino',\n",
       " 'very',\n",
       " 'via',\n",
       " 'viognier',\n",
       " 'was',\n",
       " 'we',\n",
       " 'well',\n",
       " 'were',\n",
       " 'what',\n",
       " 'whatever',\n",
       " 'when',\n",
       " 'whence',\n",
       " 'whenever',\n",
       " 'where',\n",
       " 'whereafter',\n",
       " 'whereas',\n",
       " 'whereby',\n",
       " 'wherein',\n",
       " 'whereupon',\n",
       " 'wherever',\n",
       " 'whether',\n",
       " 'which',\n",
       " 'while',\n",
       " 'white',\n",
       " 'white blend',\n",
       " 'whither',\n",
       " 'who',\n",
       " 'whoever',\n",
       " 'whole',\n",
       " 'whom',\n",
       " 'whose',\n",
       " 'why',\n",
       " 'will',\n",
       " 'with',\n",
       " 'within',\n",
       " 'without',\n",
       " 'would',\n",
       " 'yet',\n",
       " 'you',\n",
       " 'your',\n",
       " 'yours',\n",
       " 'yourself',\n",
       " 'yourselves',\n",
       " 'zinfandel',\n",
       " '‘d',\n",
       " '‘ll',\n",
       " '‘m',\n",
       " '‘re',\n",
       " '‘s',\n",
       " '‘ve',\n",
       " '’d',\n",
       " '’ll',\n",
       " '’m',\n",
       " '’re',\n",
       " '’s',\n",
       " '’ve'}"
      ]
     },
     "execution_count": 31,
     "metadata": {},
     "output_type": "execute_result"
    }
   ],
   "source": [
    "stop_words.update(grape_variety,grape_variety_lc,grape_variety_broken)\n",
    "stop_words"
   ]
  },
  {
   "cell_type": "code",
   "execution_count": 32,
   "metadata": {},
   "outputs": [],
   "source": [
    "X = wines['description']\n",
    "y = wines['variety']\n",
    "\n",
    "#split data into test and train\n",
    "X_train, X_test, y_train, y_test = train_test_split(X, y, test_size = 0.2)"
   ]
  },
  {
   "cell_type": "code",
   "execution_count": 34,
   "metadata": {},
   "outputs": [
    {
     "data": {
      "text/plain": [
       "<63677x3000 sparse matrix of type '<class 'numpy.int64'>'\n",
       "\twith 1577841 stored elements in Compressed Sparse Row format>"
      ]
     },
     "execution_count": 34,
     "metadata": {},
     "output_type": "execute_result"
    }
   ],
   "source": [
    "#Bag of words vectorization\n",
    "from sklearn.feature_extraction.text import CountVectorizer\n",
    "vec = CountVectorizer(stop_words = stop_words, ngram_range=(1, 3), max_features=3000) \n",
    "X_train_vec = vec.fit_transform(X_train)\n",
    "X_train_vec"
   ]
  },
  {
   "cell_type": "code",
   "execution_count": 35,
   "metadata": {},
   "outputs": [
    {
     "data": {
      "text/plain": [
       "LogisticRegression(C=1.0, class_weight=None, dual=False, fit_intercept=True,\n",
       "                   intercept_scaling=1, l1_ratio=None, max_iter=100,\n",
       "                   multi_class='warn', n_jobs=None, penalty='l2',\n",
       "                   random_state=None, solver='warn', tol=0.0001, verbose=0,\n",
       "                   warm_start=False)"
      ]
     },
     "execution_count": 35,
     "metadata": {},
     "output_type": "execute_result"
    }
   ],
   "source": [
    "from sklearn.linear_model import LogisticRegression\n",
    "logit = LogisticRegression()\n",
    "logit.fit(X_train_vec, y_train)"
   ]
  },
  {
   "cell_type": "code",
   "execution_count": 36,
   "metadata": {},
   "outputs": [
    {
     "data": {
      "text/plain": [
       "[('Riesling', 'Riesling'),\n",
       " ('Sauvignon Blanc', 'Sauvignon Blanc'),\n",
       " ('Portuguese Red', 'Portuguese Red'),\n",
       " ('Riesling', 'Pinot Grigio'),\n",
       " ('Pinot Noir', 'Gamay'),\n",
       " ('Red Blend', 'Cabernet Sauvignon'),\n",
       " ('Zinfandel', 'Barbera'),\n",
       " ('Zinfandel', 'Red Blend'),\n",
       " ('Malbec', 'Tempranillo'),\n",
       " ('Pinot Noir', 'Merlot')]"
      ]
     },
     "execution_count": 36,
     "metadata": {},
     "output_type": "execute_result"
    }
   ],
   "source": [
    "X_test_vec= vec.transform(X_test)\n",
    "y_pred = logit.predict(X_test_vec)\n",
    "list(zip(y_pred, y_test))[:10]"
   ]
  },
  {
   "cell_type": "code",
   "execution_count": 37,
   "metadata": {},
   "outputs": [
    {
     "data": {
      "text/plain": [
       "0.5015075376884423"
      ]
     },
     "execution_count": 37,
     "metadata": {},
     "output_type": "execute_result"
    }
   ],
   "source": [
    "from sklearn import metrics\n",
    "\n",
    "metrics.accuracy_score(y_test, y_pred)"
   ]
  },
  {
   "cell_type": "code",
   "execution_count": 38,
   "metadata": {},
   "outputs": [
    {
     "name": "stdout",
     "output_type": "stream",
     "text": [
      "                            precision    recall  f1-score   support\n",
      "\n",
      "                 Aglianico       0.15      0.06      0.09        32\n",
      "                  Albariño       0.41      0.24      0.30        79\n",
      "                   Barbera       0.44      0.15      0.23        71\n",
      "             Blaufränkisch       0.64      0.24      0.35        37\n",
      "  Bordeaux-style Red Blend       0.50      0.55      0.52       908\n",
      "Bordeaux-style White Blend       0.50      0.41      0.45       118\n",
      "            Cabernet Franc       0.17      0.08      0.11       201\n",
      "        Cabernet Sauvignon       0.41      0.47      0.44      1141\n",
      "                 Carmenère       0.28      0.18      0.22       103\n",
      "           Champagne Blend       0.59      0.50      0.54       208\n",
      "                Chardonnay       0.57      0.75      0.65      1494\n",
      "              Chenin Blanc       0.41      0.23      0.30       103\n",
      "                     Gamay       0.68      0.51      0.58       154\n",
      "                 Garganega       0.42      0.17      0.24        29\n",
      "                  Garnacha       0.23      0.07      0.11        69\n",
      "            Gewürztraminer       0.61      0.48      0.54       163\n",
      "                     Glera       0.88      0.84      0.86        70\n",
      "                  Grenache       0.00      0.00      0.00        89\n",
      "          Grüner Veltliner       0.65      0.62      0.63       192\n",
      "                    Malbec       0.26      0.26      0.26       449\n",
      "                     Melon       0.52      0.26      0.35        46\n",
      "                  Meritage       0.00      0.00      0.00        29\n",
      "                    Merlot       0.16      0.09      0.11       356\n",
      "             Montepulciano       1.00      0.11      0.19        19\n",
      "                   Moscato       0.25      0.19      0.22        21\n",
      "                 Mourvèdre       0.00      0.00      0.00        35\n",
      "                  Nebbiolo       0.71      0.72      0.71       322\n",
      "              Nero d'Avola       0.53      0.31      0.39        29\n",
      "              Petit Verdot       0.38      0.06      0.11        49\n",
      "              Petite Sirah       0.28      0.15      0.19        96\n",
      "               Pinot Blanc       0.18      0.04      0.07        74\n",
      "              Pinot Grigio       0.36      0.29      0.33        92\n",
      "                Pinot Gris       0.42      0.30      0.35       253\n",
      "                Pinot Noir       0.57      0.71      0.63      1815\n",
      "                      Port       0.66      0.49      0.56        92\n",
      "            Portuguese Red       0.54      0.59      0.57       382\n",
      "          Portuguese White       0.48      0.43      0.45       187\n",
      "                 Primitivo       0.50      0.06      0.11        31\n",
      "                  Prosecco       0.00      0.00      0.00         1\n",
      "                 Red Blend       0.43      0.47      0.45      1273\n",
      "     Rhône-style Red Blend       0.40      0.32      0.35       208\n",
      "   Rhône-style White Blend       0.85      0.63      0.73        63\n",
      "                  Riesling       0.65      0.78      0.71       889\n",
      "                      Rosé       0.54      0.69      0.61       493\n",
      "                Sangiovese       0.48      0.38      0.42       316\n",
      "         Sangiovese Grosso       0.00      0.00      0.00         1\n",
      "                 Sauvignon       0.91      0.74      0.82        42\n",
      "           Sauvignon Blanc       0.58      0.60      0.59       707\n",
      "                    Shiraz       0.45      0.35      0.39       145\n",
      "           Sparkling Blend       0.55      0.48      0.51       307\n",
      "                     Syrah       0.36      0.33      0.34       590\n",
      "               Tempranillo       0.28      0.30      0.29       286\n",
      "         Tempranillo Blend       0.17      0.10      0.13       117\n",
      "                 Torrontés       0.60      0.48      0.54        54\n",
      "                   Verdejo       0.25      0.11      0.15        56\n",
      "                Vermentino       0.50      0.18      0.26        17\n",
      "                  Viognier       0.28      0.17      0.21       132\n",
      "               White Blend       0.41      0.26      0.32       296\n",
      "                 Zinfandel       0.42      0.41      0.42       289\n",
      "\n",
      "                  accuracy                           0.50     15920\n",
      "                 macro avg       0.43      0.33      0.36     15920\n",
      "              weighted avg       0.48      0.50      0.48     15920\n",
      "\n"
     ]
    }
   ],
   "source": [
    "print(metrics.classification_report(y_test, y_pred))"
   ]
  },
  {
   "cell_type": "code",
   "execution_count": 39,
   "metadata": {},
   "outputs": [
    {
     "data": {
      "text/plain": [
       "(63677, 3000)"
      ]
     },
     "execution_count": 39,
     "metadata": {},
     "output_type": "execute_result"
    }
   ],
   "source": [
    "# Try TFIDF \n",
    "from sklearn.feature_extraction.text import TfidfTransformer\n",
    "tf = TfidfTransformer()\n",
    "X_tf = tf.fit_transform(X_train_vec)\n",
    "X_tf.shape\n"
   ]
  },
  {
   "cell_type": "code",
   "execution_count": 40,
   "metadata": {},
   "outputs": [
    {
     "data": {
      "text/plain": [
       "LogisticRegression(C=1.0, class_weight=None, dual=False, fit_intercept=True,\n",
       "                   intercept_scaling=1, l1_ratio=None, max_iter=100,\n",
       "                   multi_class='warn', n_jobs=None, penalty='l2',\n",
       "                   random_state=None, solver='warn', tol=0.0001, verbose=0,\n",
       "                   warm_start=False)"
      ]
     },
     "execution_count": 40,
     "metadata": {},
     "output_type": "execute_result"
    }
   ],
   "source": [
    "from sklearn.linear_model import LogisticRegression\n",
    "logit = LogisticRegression()\n",
    "logit.fit(X_tf, y_train)"
   ]
  },
  {
   "cell_type": "code",
   "execution_count": 41,
   "metadata": {},
   "outputs": [],
   "source": [
    "X_test_vec= vec.transform(X_test)\n",
    "X_test_tf = tf.transform(X_test_vec)\n",
    "y_pred = logit.predict(X_test_tf)"
   ]
  },
  {
   "cell_type": "code",
   "execution_count": 42,
   "metadata": {},
   "outputs": [
    {
     "data": {
      "text/plain": [
       "0.5092336683417086"
      ]
     },
     "execution_count": 42,
     "metadata": {},
     "output_type": "execute_result"
    }
   ],
   "source": [
    "from sklearn import metrics\n",
    "\n",
    "metrics.accuracy_score(y_test, y_pred)"
   ]
  },
  {
   "cell_type": "code",
   "execution_count": 43,
   "metadata": {},
   "outputs": [],
   "source": [
    "# For the next step we need to make a decision of the type of learning algorithm we want to use. \n",
    "# We should also decide if we want to process each word as a vector or the whole review as a vector.\n"
   ]
  },
  {
   "cell_type": "markdown",
   "metadata": {},
   "source": [
    "### Part 4 : Predicting Wine Price from Text Reviews (2 features + )"
   ]
  },
  {
   "cell_type": "code",
   "execution_count": 44,
   "metadata": {},
   "outputs": [],
   "source": [
    "# Try to develop a pipeline predicting wine price. (hint: processing text by embedding each word in its own vector. Predict with a Recurrent Neural Network )"
   ]
  },
  {
   "cell_type": "code",
   "execution_count": null,
   "metadata": {},
   "outputs": [],
   "source": []
  }
 ],
 "metadata": {
  "kernelspec": {
   "display_name": "Python 3",
   "language": "python",
   "name": "python3"
  },
  "language_info": {
   "codemirror_mode": {
    "name": "ipython",
    "version": 3
   },
   "file_extension": ".py",
   "mimetype": "text/x-python",
   "name": "python",
   "nbconvert_exporter": "python",
   "pygments_lexer": "ipython3",
   "version": "3.7.4"
  }
 },
 "nbformat": 4,
 "nbformat_minor": 2
}
